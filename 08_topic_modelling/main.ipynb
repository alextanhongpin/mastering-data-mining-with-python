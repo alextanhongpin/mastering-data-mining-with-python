{
 "cells": [
  {
   "cell_type": "code",
   "execution_count": 1,
   "metadata": {},
   "outputs": [
    {
     "name": "stdout",
     "output_type": "stream",
     "text": [
      ".\n",
      "..\n",
      "apacheMeetingMinutes.txt\n",
      "gnueIRCsummary.txt\n",
      "introSectionsToChapters.txt\n",
      "lkmlLinusAll.txt\n",
      "lkmlLinusJan2006.txt\n",
      "lkmlLinusJan2016.txt\n",
      "lkmlSingleNewEmail.txt\n",
      "sampleTextFromCh7.txt\n"
     ]
    }
   ],
   "source": [
    "%%bash\n",
    "\n",
    "ls -a data"
   ]
  },
  {
   "cell_type": "code",
   "execution_count": 5,
   "metadata": {},
   "outputs": [
    {
     "data": {
      "text/plain": [
       "['data/apacheMeetingMinutes.txt',\n",
       " 'data/gnueIRCsummary.txt',\n",
       " 'data/introSectionsToChapters.txt',\n",
       " 'data/lkmlLinusAll.txt',\n",
       " 'data/lkmlLinusJan2006.txt',\n",
       " 'data/lkmlLinusJan2016.txt',\n",
       " 'data/lkmlSingleNewEmail.txt',\n",
       " 'data/sampleTextFromCh7.txt']"
      ]
     },
     "execution_count": 5,
     "metadata": {},
     "output_type": "execute_result"
    }
   ],
   "source": [
    "files = ['data/apacheMeetingMinutes.txt',\n",
    " 'data/gnueIRCsummary.txt',\n",
    " 'data/introSectionsToChapters.txt',\n",
    " 'data/lkmlLinusAll.txt',\n",
    " 'data/lkmlLinusJan2006.txt',\n",
    " 'data/lkmlLinusJan2016.txt',\n",
    " 'data/lkmlSingleNewEmail.txt',\n",
    " 'data/sampleTextFromCh7.txt']\n",
    "files"
   ]
  },
  {
   "cell_type": "code",
   "execution_count": 6,
   "metadata": {},
   "outputs": [],
   "source": [
    "from gensim import corpora\n",
    "from gensim.models.ldamodel import LdaModel\n",
    "from gensim.parsing.preprocessing import STOPWORDS\n",
    "\n",
    "import pprint"
   ]
  },
  {
   "cell_type": "code",
   "execution_count": 7,
   "metadata": {},
   "outputs": [],
   "source": [
    "num_topics = 5\n",
    "num_words = 5\n",
    "passes = 20"
   ]
  },
  {
   "cell_type": "code",
   "execution_count": 8,
   "metadata": {},
   "outputs": [],
   "source": [
    "def load_file(filename):\n",
    "    with open(filename) as f:\n",
    "        texts = [[word for word in line.lower().split()\n",
    "                  if word not in STOPWORDS \n",
    "                  and word.isalnum()]\n",
    "                 for line in f]\n",
    "    return texts"
   ]
  },
  {
   "cell_type": "code",
   "execution_count": 9,
   "metadata": {},
   "outputs": [],
   "source": [
    "texts = load_file(files[0])\n",
    "dictionary = corpora.Dictionary(texts)\n",
    "corpus = [dictionary.doc2bow(text) for text in texts]        "
   ]
  },
  {
   "cell_type": "code",
   "execution_count": 12,
   "metadata": {},
   "outputs": [],
   "source": [
    "lda = LdaModel(corpus,\n",
    "               id2word=dictionary,\n",
    "               num_topics=num_topics,\n",
    "               passes=passes)"
   ]
  },
  {
   "cell_type": "code",
   "execution_count": 13,
   "metadata": {},
   "outputs": [
    {
     "name": "stdout",
     "output_type": "stream",
     "text": [
      "[   (   0,\n",
      "        '0.040*\"process\" + 0.027*\"improvements\" + 0.015*\"melissa\" + '\n",
      "        '0.015*\"number\" + 0.015*\"progress\"'),\n",
      "    (   1,\n",
      "        '0.032*\"team\" + 0.032*\"month\" + 0.032*\"vp\" + 0.018*\"progress\" + '\n",
      "        '0.018*\"good\"'),\n",
      "    (   2,\n",
      "        '0.030*\"sally\" + 0.021*\"report\" + 0.021*\"submitted\" + 0.021*\"2016\" + '\n",
      "        '0.021*\"projected\"'),\n",
      "    (   3,\n",
      "        '0.034*\"board\" + 0.023*\"proposal\" + 0.023*\"complete\" + 0.023*\"sally\" + '\n",
      "        '0.013*\"thanks\"'),\n",
      "    (   4,\n",
      "        '0.025*\"sensitive\" + 0.025*\"services\" + 0.025*\"infra\" + 0.014*\"issues\" '\n",
      "        '+ 0.014*\"discussion\"')]\n"
     ]
    }
   ],
   "source": [
    "pp = pprint.PrettyPrinter(indent=4)\n",
    "pp.pprint(lda.print_topics(num_words=num_words))"
   ]
  },
  {
   "cell_type": "code",
   "execution_count": 26,
   "metadata": {},
   "outputs": [
    {
     "name": "stdout",
     "output_type": "stream",
     "text": [
      "[   (0, 0.050011918),\n",
      "    (1, 0.050013896),\n",
      "    (2, 0.050454),\n",
      "    (3, 0.79950935),\n",
      "    (4, 0.050010893)]\n"
     ]
    }
   ],
   "source": [
    "unseen_text = load_file(files[-2])[0]\n",
    "newcorpus = dictionary.doc2bow(unseen_text)\n",
    "pp.pprint(lda[newcorpus])"
   ]
  },
  {
   "cell_type": "code",
   "execution_count": 27,
   "metadata": {},
   "outputs": [],
   "source": [
    "# ^ The new, unseen email has 79.9% probability to fit topic 3."
   ]
  },
  {
   "cell_type": "markdown",
   "metadata": {},
   "source": [
    "## Serializing Gensim LDA objects."
   ]
  },
  {
   "cell_type": "code",
   "execution_count": 28,
   "metadata": {},
   "outputs": [
    {
     "name": "stderr",
     "output_type": "stream",
     "text": [
      "/Library/Frameworks/Python.framework/Versions/3.7/lib/python3.7/site-packages/smart_open/smart_open_lib.py:398: UserWarning: This function is deprecated, use smart_open.open instead. See the migration notes for details: https://github.com/RaRe-Technologies/smart_open/blob/master/README.rst#migrating-to-the-new-open-function\n",
      "  'See the migration notes for details: %s' % _MIGRATION_NOTES_URL\n"
     ]
    }
   ],
   "source": [
    "dictionary = corpora.Dictionary(texts)\n",
    "dictionary.save('lkml.dict')"
   ]
  },
  {
   "cell_type": "code",
   "execution_count": null,
   "metadata": {},
   "outputs": [],
   "source": []
  }
 ],
 "metadata": {
  "kernelspec": {
   "display_name": "Python 3",
   "language": "python",
   "name": "python3"
  },
  "language_info": {
   "codemirror_mode": {
    "name": "ipython",
    "version": 3
   },
   "file_extension": ".py",
   "mimetype": "text/x-python",
   "name": "python",
   "nbconvert_exporter": "python",
   "pygments_lexer": "ipython3",
   "version": "3.7.3"
  }
 },
 "nbformat": 4,
 "nbformat_minor": 2
}
