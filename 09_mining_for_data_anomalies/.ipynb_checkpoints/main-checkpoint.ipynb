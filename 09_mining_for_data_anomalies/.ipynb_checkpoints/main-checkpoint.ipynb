{
 "cells": [
  {
   "cell_type": "code",
   "execution_count": 27,
   "metadata": {},
   "outputs": [],
   "source": [
    "%matplotlib inline\n",
    "\n",
    "import numpy as np\n",
    "import matplotlib.pyplot as plt\n",
    "from sklearn.covariance import EllipticEnvelope"
   ]
  },
  {
   "cell_type": "code",
   "execution_count": 5,
   "metadata": {},
   "outputs": [],
   "source": [
    "with open('data/sloc.txt', 'r') as f:\n",
    "    data = f.readlines()\n",
    "data = np.array(data, dtype=np.int64)"
   ]
  },
  {
   "cell_type": "code",
   "execution_count": 9,
   "metadata": {},
   "outputs": [
    {
     "data": {
      "text/plain": [
       "(542,)"
      ]
     },
     "execution_count": 9,
     "metadata": {},
     "output_type": "execute_result"
    }
   ],
   "source": [
    "data.shape"
   ]
  },
  {
   "cell_type": "code",
   "execution_count": 11,
   "metadata": {},
   "outputs": [
    {
     "data": {
      "text/plain": [
       "(1485353, 29, 63594.78597785978, 18986.0)"
      ]
     },
     "execution_count": 11,
     "metadata": {},
     "output_type": "execute_result"
    }
   ],
   "source": [
    "np.amax(data, axis=0), np.amin(data, axis=0), np.mean(data), np.median(data)"
   ]
  },
  {
   "cell_type": "code",
   "execution_count": 22,
   "metadata": {},
   "outputs": [
    {
     "data": {
      "text/plain": [
       "(9445260643006.0, 3073314.276641099)"
      ]
     },
     "execution_count": 22,
     "metadata": {},
     "output_type": "execute_result"
    }
   ],
   "source": [
    "# Sum square diff.\n",
    "sumsqdiff = np.sum(pow((data - np.median(data)), 2))\n",
    "sqrtdiff = np.sqrt(sumsqdiff)\n",
    "sumsqdiff, sqrtdiff"
   ]
  },
  {
   "cell_type": "code",
   "execution_count": 23,
   "metadata": {},
   "outputs": [
    {
     "data": {
      "text/plain": [
       "7.141147560596455e-14"
      ]
     },
     "execution_count": 23,
     "metadata": {},
     "output_type": "execute_result"
    }
   ],
   "source": [
    "# Modified z-score.\n",
    "# 0.6745 represents about 2/3 of the standard deviation, representing a threshold at about half the distance between the first and third-quatiles.\n",
    "modzscore = (0.6745 / sumsqdiff)\n",
    "modzscore # Any data point above this modzscore is considered an outlier."
   ]
  },
  {
   "cell_type": "code",
   "execution_count": 25,
   "metadata": {},
   "outputs": [
    {
     "data": {
      "text/plain": [
       "{'marker': 'o',\n",
       " 'markerfacecolor': 'green',\n",
       " 'markersize': 8,\n",
       " 'linestyle': 'none'}"
      ]
     },
     "execution_count": 25,
     "metadata": {},
     "output_type": "execute_result"
    }
   ],
   "source": [
    "# Set up a variable to hold the characteristics of our outliers, called flierin boxplot parlance.\n",
    "flierprops = dict(marker='o',\n",
    "                  markerfacecolor='green',\n",
    "                  markersize=8,\n",
    "                  linestyle='none')\n",
    "flierprops"
   ]
  },
  {
   "cell_type": "code",
   "execution_count": 26,
   "metadata": {},
   "outputs": [
    {
     "data": {
      "text/plain": [
       "{'whiskers': [<matplotlib.lines.Line2D at 0x11a1fd400>,\n",
       "  <matplotlib.lines.Line2D at 0x11a1fd780>],\n",
       " 'caps': [<matplotlib.lines.Line2D at 0x11a1fda90>,\n",
       "  <matplotlib.lines.Line2D at 0x11a1fddd8>],\n",
       " 'boxes': [<matplotlib.lines.Line2D at 0x11a1fd048>],\n",
       " 'medians': [<matplotlib.lines.Line2D at 0x11a1fdeb8>],\n",
       " 'fliers': [<matplotlib.lines.Line2D at 0x11a21f7f0>],\n",
       " 'means': [<matplotlib.lines.Line2D at 0x11a21f4a8>]}"
      ]
     },
     "execution_count": 26,
     "metadata": {},
     "output_type": "execute_result"
    },
    {
     "data": {
      "image/png": "[encoded data removed]",
      "text/plain": [
       "<Figure size 432x288 with 1 Axes>"
      ]
     },
     "metadata": {
      "needs_background": "light"
     },
     "output_type": "display_data"
    }
   ],
   "source": [
    "# The green dots are outliers.\n",
    "plt.boxplot(data, \n",
    "            showmeans=True,\n",
    "            flierprops=flierprops)"
   ]
  },
  {
   "cell_type": "code",
   "execution_count": 29,
   "metadata": {},
   "outputs": [
    {
     "data": {
      "text/plain": [
       "(542, 2)"
      ]
     },
     "execution_count": 29,
     "metadata": {},
     "output_type": "execute_result"
    }
   ],
   "source": [
    "X1 = np.loadtxt('data/slocbool.txt')\n",
    "X1.shape"
   ]
  },
  {
   "cell_type": "code",
   "execution_count": 33,
   "metadata": {},
   "outputs": [
    {
     "data": {
      "text/plain": [
       "Text(0.5, 0, 'Count of source lines of code')"
      ]
     },
     "execution_count": 33,
     "metadata": {},
     "output_type": "execute_result"
    },
    {
     "data": {
      "image/png": "[encoded data removed]",
      "text/plain": [
       "<Figure size 432x288 with 1 Axes>"
      ]
     },
     "metadata": {
      "needs_background": "light"
     },
     "output_type": "display_data"
    }
   ],
   "source": [
    "ee = EllipticEnvelope(support_fraction=1,\n",
    "                      contamination=0.02)\n",
    "xx, yy = np.meshgrid(np.linspace(0, 1_500_000, 542), \n",
    "                     np.linspace(0, 15_000, 542))\n",
    "ee.fit(X1)\n",
    "Z = ee.decision_function(np.c_[xx.ravel(), yy.ravel()])\n",
    "Z = Z.reshape(xx.shape)\n",
    "\n",
    "plt.figure(1)\n",
    "plt.title('Outlier detection: SLOC vs BOOL')\n",
    "plt.scatter(X1[:, 0], X1[:, 1], color='black')\n",
    "plt.contour(xx, yy, Z, levels=[0], linewidths=2, colors='m')\n",
    "plt.ylabel('Count of boolean expressions')\n",
    "plt.xlabel('Count of source lines of code')"
   ]
  },
  {
   "cell_type": "code",
   "execution_count": null,
   "metadata": {},
   "outputs": [],
   "source": []
  }
 ],
 "metadata": {
  "kernelspec": {
   "display_name": "Python 3",
   "language": "python",
   "name": "python3"
  },
  "language_info": {
   "codemirror_mode": {
    "name": "ipython",
    "version": 3
   },
   "file_extension": ".py",
   "mimetype": "text/x-python",
   "name": "python",
   "nbconvert_exporter": "python",
   "pygments_lexer": "ipython3",
   "version": "3.7.3"
  }
 },
 "nbformat": 4,
 "nbformat_minor": 2
}
