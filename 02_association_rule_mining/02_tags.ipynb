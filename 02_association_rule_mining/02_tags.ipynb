{
 "cells": [
  {
   "cell_type": "code",
   "execution_count": 219,
   "metadata": {},
   "outputs": [],
   "source": [
    "import sqlite3"
   ]
  },
  {
   "cell_type": "code",
   "execution_count": 220,
   "metadata": {},
   "outputs": [],
   "source": [
    "# %%bash\n",
    "\n",
    "# rm \"test.db\""
   ]
  },
  {
   "cell_type": "code",
   "execution_count": 221,
   "metadata": {},
   "outputs": [],
   "source": [
    "# %%bash\n",
    "\n",
    "# # if [ ! -e \"test.db\" ]; then\n",
    "#     # Run this command TWICE to create and prepopulate the table.\n",
    "#     sqlite3 test.db < data/fc_project_tags.sql\n",
    "# # else\n",
    "# #     echo 'file exist'\n",
    "# # fi"
   ]
  },
  {
   "cell_type": "code",
   "execution_count": 222,
   "metadata": {},
   "outputs": [],
   "source": [
    "conn = sqlite3.connect('test.db')\n",
    "c = conn.cursor()"
   ]
  },
  {
   "cell_type": "code",
   "execution_count": 223,
   "metadata": {},
   "outputs": [],
   "source": [
    "c.execute('''\n",
    "    CREATE TABLE IF NOT EXISTS fc_project_tag_pairs (\n",
    "        tag1 varchar(255) NOT NULL,\n",
    "        tag2 varchar(255) NOT NULL,\n",
    "        num_projs int(11) NOT NULL\n",
    "    )\n",
    "''').fetchone()\n",
    "\n",
    "c.execute('''\n",
    "    CREATE UNIQUE INDEX IF NOT EXISTS idx_fc_project_tag_pairs_tags ON fc_project_tag_pairs(tag1, tag2)\n",
    "''').fetchone()"
   ]
  },
  {
   "cell_type": "code",
   "execution_count": 224,
   "metadata": {},
   "outputs": [],
   "source": [
    "c.execute('''\n",
    "    CREATE TABLE IF NOT EXISTS fc_project_tag_triples (\n",
    "        tag1 varchar(255) NOT NULL,\n",
    "        tag2 varchar(255) NOT NULL,\n",
    "        tag3 varchar(255) NOT NULL,\n",
    "        num_projs int(11) NOT NULL\n",
    "    )\n",
    "''').fetchone()\n",
    "\n",
    "\n",
    "c.execute('''\n",
    "    CREATE UNIQUE INDEX IF NOT EXISTS idx_fc_project_tag_triples_tags ON fc_project_tag_triples(tag1, tag2, tag3)\n",
    "''').fetchone()"
   ]
  },
  {
   "cell_type": "code",
   "execution_count": 225,
   "metadata": {},
   "outputs": [
    {
     "data": {
      "text/plain": [
       "(353400,)"
      ]
     },
     "execution_count": 225,
     "metadata": {},
     "output_type": "execute_result"
    }
   ],
   "source": [
    "c.execute('SELECT COUNT(*) FROM fc_project_tags').fetchone()"
   ]
  },
  {
   "cell_type": "code",
   "execution_count": 226,
   "metadata": {},
   "outputs": [
    {
     "data": {
      "text/plain": [
       "(11006,)"
      ]
     },
     "execution_count": 226,
     "metadata": {},
     "output_type": "execute_result"
    }
   ],
   "source": [
    "c.execute('SELECT COUNT(DISTINCT(tag_name)) FROM fc_project_tags').fetchone()"
   ]
  },
  {
   "cell_type": "code",
   "execution_count": 227,
   "metadata": {},
   "outputs": [
    {
     "data": {
      "text/plain": [
       "(46510,)"
      ]
     },
     "execution_count": 227,
     "metadata": {},
     "output_type": "execute_result"
    }
   ],
   "source": [
    "c.execute('SELECT COUNT(DISTINCT(project_id)) FROM fc_project_tags').fetchone()"
   ]
  },
  {
   "cell_type": "code",
   "execution_count": 228,
   "metadata": {},
   "outputs": [
    {
     "name": "stdout",
     "output_type": "stream",
     "text": [
      "GPL                           :21182\n",
      "POSIX                         :16875\n",
      "Linux                         :16288\n",
      "C                             :10292\n",
      "OS Independent                :10180\n",
      "Software Development          : 9619\n",
      "Internet                      : 8100\n",
      "Windows                       : 7572\n",
      "Java                          : 6394\n",
      "Web                           : 6267\n"
     ]
    }
   ],
   "source": [
    "# The table has two columns - project_id and tag_name;\n",
    "stmt = '''\n",
    "    SELECT tag_name, COUNT(*) AS total \n",
    "    FROM fc_project_tags \n",
    "    GROUP BY tag_name \n",
    "    ORDER BY total desc \n",
    "    LIMIT 10\n",
    "'''\n",
    "res = c.execute(stmt).fetchall()\n",
    "for tag, count in res:\n",
    "    print(f'{tag:30}:{count:>5}')"
   ]
  },
  {
   "cell_type": "code",
   "execution_count": 229,
   "metadata": {},
   "outputs": [
    {
     "name": "stdout",
     "output_type": "stream",
     "text": [
      "79820 144 ['Abkhazian', 'Afar', 'Afrikaans']\n",
      "78747 143 ['AJAX', 'Abkhazian', 'Afar']\n",
      "81769 134 ['Afrikaans', 'Akan', 'Albanian']\n",
      "37224 77 ['Afrikaans', 'Albanian', 'Amharic']\n",
      "55294 71 ['Afrikaans', 'Albanian', 'Arabic']\n",
      "55599 68 ['Arabic', 'Armenian', 'Asturian']\n",
      "39957 66 ['Address Book', 'Albanian', 'Arabic']\n",
      "39 64 ['Apache HTTP Server', 'Arabic', 'Bahasa Indonesia']\n",
      "27303 63 ['AGPL v3', 'AIX', 'Arab (Saudi Arabia)']\n",
      "80680 63 ['AS/400', 'Android', 'BlackBerry']\n"
     ]
    }
   ],
   "source": [
    "stmt = '''\n",
    "    SELECT project_id, COUNT(*) AS total, GROUP_CONCAT(tag_name)\n",
    "    FROM fc_project_tags \n",
    "    GROUP BY project_id \n",
    "    ORDER BY total DESC \n",
    "    LIMIT 10\n",
    "'''\n",
    "res = conn.execute(stmt).fetchall()\n",
    "for project_id, count, tags in res:\n",
    "    print(project_id, count, tags.split(',')[:3])"
   ]
  },
  {
   "cell_type": "code",
   "execution_count": 230,
   "metadata": {},
   "outputs": [],
   "source": [
    "# Set percentage threshold for min support.\n",
    "MIN_SUPPORT_PCT = 5"
   ]
  },
  {
   "cell_type": "code",
   "execution_count": 231,
   "metadata": {},
   "outputs": [
    {
     "data": {
      "text/plain": [
       "46510"
      ]
     },
     "execution_count": 231,
     "metadata": {},
     "output_type": "execute_result"
    }
   ],
   "source": [
    "basket_count_stmt = '''\n",
    "    SELECT COUNT(DISTINCT(project_id))\n",
    "    FROM fc_project_tags\n",
    "'''\n",
    "basket_count = c.execute(basket_count_stmt).fetchone()[0]\n",
    "basket_count"
   ]
  },
  {
   "cell_type": "code",
   "execution_count": 232,
   "metadata": {},
   "outputs": [
    {
     "data": {
      "text/plain": [
       "'Min support is 2325.5'"
      ]
     },
     "execution_count": 232,
     "metadata": {},
     "output_type": "execute_result"
    }
   ],
   "source": [
    "min_support = MIN_SUPPORT_PCT / 100 * basket_count\n",
    "f'Min support is {min_support}'"
   ]
  },
  {
   "cell_type": "code",
   "execution_count": 233,
   "metadata": {},
   "outputs": [
    {
     "data": {
      "text/plain": [
       "29"
      ]
     },
     "execution_count": 233,
     "metadata": {},
     "output_type": "execute_result"
    }
   ],
   "source": [
    "# Get the tags that meets the minimum support.\n",
    "get_tags_stmt = '''\n",
    "    SELECT DISTINCT tag_name\n",
    "    FROM fc_project_tags\n",
    "    GROUP BY tag_name\n",
    "    HAVING COUNT (project_id) >= ?\n",
    "    ORDER BY tag_name\n",
    "'''\n",
    "res = c.execute(get_tags_stmt, (min_support,)).fetchall()\n",
    "len(res)"
   ]
  },
  {
   "cell_type": "code",
   "execution_count": 234,
   "metadata": {},
   "outputs": [
    {
     "data": {
      "text/plain": [
       "\"Found 29 singletons: ['BSD', 'C', 'C++', 'Communications', 'Desktop Environment', 'Dynamic Content', 'English', 'GPL', 'GPLv3', 'Games/Entertainment', 'Internet', 'Java', 'LGPL', 'Libraries', 'Linux', 'Mac OS X', 'Networking', 'OS Independent', 'PHP', 'POSIX', 'Perl', 'Python', 'Scientific/Engineering', 'Software Development', 'Unix', 'Utilities', 'Web', 'Windows', 'multimedia']\""
      ]
     },
     "execution_count": 234,
     "metadata": {},
     "output_type": "execute_result"
    }
   ],
   "source": [
    "singletons = [row[0] for row in res]\n",
    "f'Found {len(singletons)} singletons: {singletons}'"
   ]
  },
  {
   "cell_type": "code",
   "execution_count": 235,
   "metadata": {},
   "outputs": [
    {
     "data": {
      "text/plain": [
       "[[1, 2, 3],\n",
       " [1, 2, 4],\n",
       " [1, 2, 5],\n",
       " [1, 3, 4],\n",
       " [1, 3, 5],\n",
       " [1, 4, 5],\n",
       " [2, 3, 4],\n",
       " [2, 3, 5],\n",
       " [2, 4, 5],\n",
       " [3, 4, 5]]"
      ]
     },
     "execution_count": 235,
     "metadata": {},
     "output_type": "execute_result"
    }
   ],
   "source": [
    "a = [1,2,3,4,5]\n",
    "\n",
    "def combination(a, k = 2):\n",
    "    result = []\n",
    "\n",
    "    def iterate(a, b):\n",
    "        for i, a_i in enumerate(a):\n",
    "            c = b + [a_i]\n",
    "            if len(c) == k:\n",
    "                result.append(c)\n",
    "            if len(c) < k:\n",
    "                iterate(a[i+1:], b + [a_i])\n",
    "    iterate(a, [])\n",
    "\n",
    "    return result\n",
    "\n",
    "# This produces the same results as itertools.combinations\n",
    "# import itertools\n",
    "# list(itertools.combinations(a, 3))\n",
    "combination(a, 3)"
   ]
  },
  {
   "cell_type": "code",
   "execution_count": 236,
   "metadata": {},
   "outputs": [],
   "source": [
    "doubletons = set()\n",
    "doubletons_set = set()\n",
    "\n",
    "def find_doubletons():\n",
    "    # Use the list of singletons to generate the doubletons candidate.\n",
    "    doubleton_candidates = combination(singletons, 2)\n",
    "    \n",
    "    c = conn.cursor()\n",
    "    for index, candidate in enumerate(doubleton_candidates):\n",
    "        # Check if the doubleton candidate is frequent.\n",
    "        tag1, tag2 = candidate\n",
    "        \n",
    "        res = c.execute('''\n",
    "            SELECT COUNT(fpt1.project_id)\n",
    "            FROM fc_project_tags fpt1\n",
    "            INNER JOIN fc_project_tags fpt2 \n",
    "            ON (fpt1.project_id = fpt2.project_id)\n",
    "            WHERE fpt1.tag_name = ?\n",
    "            AND fpt2.tag_name = ?\n",
    "        ''', (tag1, tag2)).fetchone()\n",
    "        \n",
    "        count = res[0]\n",
    "        \n",
    "        # Add frequet doubleton to database.\n",
    "        if count > min_support:\n",
    "            print(f'{tag1}, {tag2}, [{count}]')\n",
    "            \n",
    "            try:\n",
    "                c.execute('''\n",
    "                    INSERT INTO fc_project_tag_pairs(tag1, tag2, num_projs)\n",
    "                    VALUES (?, ?, ?)\n",
    "                ''', (tag1, tag2, count))\n",
    "            except sqlite3.IntegrityError as e:\n",
    "                pass\n",
    "            \n",
    "            # Save the frequent doubleton to our final list.\n",
    "            doubletons_set.add((tag1, tag2))\n",
    "            \n",
    "            # Add terms to a set of all doubleton terms (no duplicates).\n",
    "            doubletons.add(tag1)\n",
    "            doubletons.add(tag2)\n",
    "            \n",
    "    # Persist to database.\n",
    "    conn.commit()"
   ]
  },
  {
   "cell_type": "code",
   "execution_count": 237,
   "metadata": {},
   "outputs": [
    {
     "name": "stdout",
     "output_type": "stream",
     "text": [
      "C, GPL, [5543]\n",
      "C, Linux, [5653]\n",
      "C, POSIX, [6956]\n",
      "C++, GPL, [2914]\n",
      "C++, Linux, [3428]\n",
      "C++, POSIX, [3502]\n",
      "Communications, GPL, [2578]\n",
      "Dynamic Content, Internet, [3173]\n",
      "Dynamic Content, Web, [3171]\n",
      "English, Linux, [2662]\n",
      "GPL, Internet, [4038]\n",
      "GPL, Linux, [8038]\n",
      "GPL, OS Independent, [4405]\n",
      "GPL, PHP, [2376]\n",
      "GPL, POSIX, [10069]\n",
      "GPL, Software Development, [3319]\n",
      "GPL, Web, [2901]\n",
      "GPL, Windows, [2605]\n",
      "GPL, multimedia, [2883]\n",
      "Internet, OS Independent, [3007]\n",
      "Internet, POSIX, [2832]\n",
      "Internet, Web, [5978]\n",
      "Java, OS Independent, [3436]\n",
      "Java, Software Development, [2360]\n",
      "Libraries, Software Development, [5638]\n",
      "Linux, Mac OS X, [2974]\n",
      "Linux, POSIX, [11903]\n",
      "Linux, Software Development, [2336]\n",
      "Linux, Unix, [2494]\n",
      "Linux, Windows, [5281]\n",
      "Mac OS X, Windows, [3131]\n",
      "OS Independent, Software Development, [3566]\n",
      "OS Independent, Web, [2605]\n",
      "POSIX, Software Development, [3503]\n",
      "POSIX, Unix, [2326]\n",
      "POSIX, Windows, [4467]\n",
      "POSIX, multimedia, [2539]\n"
     ]
    }
   ],
   "source": [
    "if len(doubletons) == 0:\n",
    "    find_doubletons()"
   ]
  },
  {
   "cell_type": "code",
   "execution_count": 238,
   "metadata": {},
   "outputs": [],
   "source": [
    "def find_tripletons():\n",
    "    # Use the list of doubletons to make the tripletons candidates.\n",
    "    tripleton_candidates = combination(list(doubletons), 3)\n",
    "\n",
    "    # Sort each candidate tuple and add these to a new sorted candidate list.\n",
    "    tripleton_candidates_sorted = []\n",
    "    for tc in tripleton_candidates:\n",
    "        tripleton_candidates_sorted.append(sorted(tc))\n",
    "    \n",
    "    # Prepare cursor.\n",
    "    c = conn.cursor()\n",
    "    \n",
    "    # Figure out if this candidate is frequent.\n",
    "    for index, candidate in enumerate(tripleton_candidates_sorted):\n",
    "        # All doubletons insude this tripleton candidate MUST also be frequent.\n",
    "        doubletons_inside_tripletons = combination(candidate, 2)\n",
    "        \n",
    "        tripleton_candidate_rejected = 0\n",
    "        for index, doubleton in enumerate(doubletons_inside_tripletons):\n",
    "            doubleton_tuple = (doubleton[0], doubleton[1])\n",
    "            if doubleton_tuple not in doubletons_set:\n",
    "                tripleton_candidate_rejected = 1\n",
    "                break\n",
    "        \n",
    "        if tripleton_candidate_rejected > 0:\n",
    "            continue\n",
    "        \n",
    "        # Add frequent tripleton to the database.\n",
    "        res = c.execute('''\n",
    "            SELECT count(fpt1.project_id)\n",
    "            FROM fc_project_tags fpt1\n",
    "            INNER JOIN fc_project_tags fpt2\n",
    "            ON (fpt1.project_id = fpt2.project_id)\n",
    "            INNER JOIN fc_project_tags fpt3\n",
    "            ON (fpt2.project_id = fpt3.project_id)\n",
    "            WHERE fpt1.tag_name = ? AND\n",
    "                  fpt2.tag_name = ? AND\n",
    "                  fpt3.tag_name = ?\n",
    "        ''', (candidate[0], \n",
    "              candidate[1], \n",
    "              candidate[2])).fetchone()\n",
    "        \n",
    "        count = res[0]\n",
    "        \n",
    "        if count > min_support:\n",
    "            print(f'{candidate} [{count}]')\n",
    "            \n",
    "            try:\n",
    "                c.execute('''\n",
    "                    INSERT INTO fc_project_tag_triples \n",
    "                        (tag1, tag2, tag3, num_projs)\n",
    "                    VALUES (?, ?, ?, ?)\n",
    "                ''', (candidate[0],\n",
    "                      candidate[1],\n",
    "                      candidate[2],\n",
    "                      count))\n",
    "            except sqlite3.IntegrityError as e:\n",
    "                pass\n",
    "    # Persist in database.\n",
    "    conn.commit()"
   ]
  },
  {
   "cell_type": "code",
   "execution_count": 239,
   "metadata": {},
   "outputs": [
    {
     "name": "stdout",
     "output_type": "stream",
     "text": [
      "['C', 'Linux', 'POSIX'] [4629]\n",
      "['C', 'GPL', 'Linux'] [3299]\n",
      "['C', 'GPL', 'POSIX'] [4364]\n",
      "['Dynamic Content', 'Internet', 'Web'] [3166]\n",
      "['Internet', 'OS Independent', 'Web'] [2519]\n",
      "['GPL', 'Internet', 'Web'] [2878]\n",
      "['C++', 'Linux', 'POSIX'] [2622]\n",
      "['Linux', 'POSIX', 'Windows'] [3315]\n",
      "['GPL', 'Linux', 'POSIX'] [7384]\n"
     ]
    }
   ],
   "source": [
    "find_tripletons()"
   ]
  },
  {
   "cell_type": "code",
   "execution_count": 240,
   "metadata": {},
   "outputs": [],
   "source": [
    "def calculate_support_confidence_added_value(tag1, tag2, tag3, rule_support):\n",
    "    # Support.\n",
    "    rule_support_pct = round((rule_support / basket_count), 2)\n",
    "    \n",
    "    # Confidence.\n",
    "    query1 = '''\n",
    "        SELECT num_projs\n",
    "        FROM fc_project_tag_pairs\n",
    "        WHERE tag1 = ? and tag2 = ?\n",
    "        OR tag2 = ? and tag1 = ?\n",
    "    '''\n",
    "    c = conn.cursor()\n",
    "    res = c.execute(query1, (tag1, tag2, tag2, tag1)).fetchone()\n",
    "    \n",
    "    pair_support = res[0]\n",
    "    confidence = round((rule_support / pair_support), 2)\n",
    "    \n",
    "    # Added value.\n",
    "    query2 = '''\n",
    "        SELECT COUNT(*)\n",
    "        FROM fc_project_tags\n",
    "        WHERE tag_name = ?\n",
    "    '''\n",
    "    \n",
    "    res = c.execute(query2, (tag3,)).fetchone()\n",
    "    support_tag3 = res[0]\n",
    "    support_tag3_pct = support_tag3 / basket_count\n",
    "    added_value = round((confidence - support_tag3_pct), 2)\n",
    "    \n",
    "    # Result.\n",
    "    print(f'{tag1}, {tag2} -> {tag3} [S={rule_support_pct}, C={confidence}, AV={added_value}]')"
   ]
  },
  {
   "cell_type": "code",
   "execution_count": 241,
   "metadata": {},
   "outputs": [],
   "source": [
    "def generate_rules():\n",
    "    # Pull final list of tripletons to make the rules.\n",
    "    c = conn.cursor()\n",
    "    triples = c.execute('''\n",
    "        SELECT tag1, tag2, tag3, num_projs\n",
    "        FROM fc_project_tag_triples\n",
    "    ''').fetchall()\n",
    "    \n",
    "    for (tag1, tag2, tag3, rule_support) in triples:\n",
    "        calculate_support_confidence_added_value(tag1, tag2, tag3, rule_support)\n",
    "        calculate_support_confidence_added_value(tag1, tag3, tag2, rule_support)\n",
    "        calculate_support_confidence_added_value(tag2, tag3, tag1, rule_support)\n",
    "        print('*')"
   ]
  },
  {
   "cell_type": "code",
   "execution_count": 242,
   "metadata": {},
   "outputs": [
    {
     "name": "stdout",
     "output_type": "stream",
     "text": [
      "C, Linux -> POSIX [S=0.1, C=0.82, AV=0.46]\n",
      "C, POSIX -> Linux [S=0.1, C=0.67, AV=0.32]\n",
      "Linux, POSIX -> C [S=0.1, C=0.39, AV=0.17]\n",
      "*\n",
      "C, GPL -> Linux [S=0.07, C=0.6, AV=0.25]\n",
      "C, Linux -> GPL [S=0.07, C=0.58, AV=0.12]\n",
      "GPL, Linux -> C [S=0.07, C=0.41, AV=0.19]\n",
      "*\n",
      "C, GPL -> POSIX [S=0.09, C=0.79, AV=0.43]\n",
      "C, POSIX -> GPL [S=0.09, C=0.63, AV=0.17]\n",
      "GPL, POSIX -> C [S=0.09, C=0.43, AV=0.21]\n",
      "*\n",
      "Dynamic Content, Internet -> Web [S=0.07, C=1.0, AV=0.87]\n",
      "Dynamic Content, Web -> Internet [S=0.07, C=1.0, AV=0.83]\n",
      "Internet, Web -> Dynamic Content [S=0.07, C=0.53, AV=0.46]\n",
      "*\n",
      "Internet, OS Independent -> Web [S=0.05, C=0.84, AV=0.71]\n",
      "Internet, Web -> OS Independent [S=0.05, C=0.42, AV=0.2]\n",
      "OS Independent, Web -> Internet [S=0.05, C=0.97, AV=0.8]\n",
      "*\n",
      "GPL, Internet -> Web [S=0.06, C=0.71, AV=0.58]\n",
      "GPL, Web -> Internet [S=0.06, C=0.99, AV=0.82]\n",
      "Internet, Web -> GPL [S=0.06, C=0.48, AV=0.02]\n",
      "*\n",
      "C++, Linux -> POSIX [S=0.06, C=0.76, AV=0.4]\n",
      "C++, POSIX -> Linux [S=0.06, C=0.75, AV=0.4]\n",
      "Linux, POSIX -> C++ [S=0.06, C=0.22, AV=0.09]\n",
      "*\n",
      "Linux, POSIX -> Windows [S=0.07, C=0.28, AV=0.12]\n",
      "Linux, Windows -> POSIX [S=0.07, C=0.63, AV=0.27]\n",
      "POSIX, Windows -> Linux [S=0.07, C=0.74, AV=0.39]\n",
      "*\n",
      "GPL, Linux -> POSIX [S=0.16, C=0.92, AV=0.56]\n",
      "GPL, POSIX -> Linux [S=0.16, C=0.73, AV=0.38]\n",
      "Linux, POSIX -> GPL [S=0.16, C=0.62, AV=0.16]\n",
      "*\n"
     ]
    }
   ],
   "source": [
    "generate_rules()"
   ]
  },
  {
   "cell_type": "code",
   "execution_count": 243,
   "metadata": {},
   "outputs": [],
   "source": [
    "X = 'Internet'\n",
    "y = 'Web'\n",
    "\n",
    "c = conn.cursor()\n",
    "\n",
    "num_baskets_query = '''\n",
    "    SELECT count(DISTINCT project_id)\n",
    "    FROM fc_project_tags\n",
    "'''\n",
    "\n",
    "num_baskets = c.execute(num_baskets_query).fetchone()[0]"
   ]
  },
  {
   "cell_type": "code",
   "execution_count": 244,
   "metadata": {},
   "outputs": [],
   "source": [
    "support_for_X_query = '''\n",
    "    SELECT count(*)\n",
    "    FROM fc_project_tags\n",
    "    WHERE tag_name = ?\n",
    "'''\n",
    "\n",
    "support_for_X = c.execute(support_for_X_query, (X,)).fetchone()[0]"
   ]
  },
  {
   "cell_type": "code",
   "execution_count": 245,
   "metadata": {},
   "outputs": [],
   "source": [
    "support_for_y_query = '''\n",
    "    SELECT count(*)\n",
    "    FROM fc_project_tags\n",
    "    WHERE tag_name = ?\n",
    "'''\n",
    "\n",
    "support_for_y = c.execute(support_for_y_query, (y,)).fetchone()[0]"
   ]
  },
  {
   "cell_type": "code",
   "execution_count": 246,
   "metadata": {},
   "outputs": [],
   "source": [
    "pair_support_query = '''\n",
    "    SELECT num_projs\n",
    "    FROM fc_project_tag_pairs\n",
    "    WHERE tag1 = ? AND tag2 = ?\n",
    "'''\n",
    "\n",
    "pair_support = c.execute(pair_support_query, (X, y)).fetchone()[0]"
   ]
  },
  {
   "cell_type": "code",
   "execution_count": 261,
   "metadata": {},
   "outputs": [
    {
     "name": "stdout",
     "output_type": "stream",
     "text": [
      "Support for Internet U Web: 0.13\n",
      "Confidence Internet -> Web: 0.74\n",
      "Confidence Web -> Internet: 0.95\n",
      "Added Value Internet -> Web: 0.60\n",
      "Added Value Web -> Internet: 0.78\n"
     ]
    }
   ],
   "source": [
    "# Calculate support: support of pair, divided by number of baskets.\n",
    "\n",
    "pair_support_as_pct = pair_support / num_baskets\n",
    "\n",
    "# Calculate confidence of X -> y.\n",
    "support_for_X_as_pct = support_for_X / num_baskets\n",
    "confidence_X_y = pair_support_as_pct / support_for_X_as_pct\n",
    "\n",
    "# Calculate confidence of y -> X.\n",
    "support_for_y_as_pct = support_for_y / num_baskets\n",
    "confidence_y_X = pair_support_as_pct / support_for_y_as_pct\n",
    "\n",
    "# Calculate added value X -> y.\n",
    "av_X_y = confidence_X_y - support_for_y_as_pct\n",
    "av_y_X = confidence_y_X - support_for_X_as_pct\n",
    "\n",
    "print(f'Support for {X} U {y}: {pair_support_as_pct:.2f}')\n",
    "print(f'Confidence {X} -> {y}: {confidence_X_y:.2f}')\n",
    "print(f'Confidence {y} -> {X}: {confidence_y_X:.2f}')\n",
    "print(f'Added Value {X} -> {y}: {av_X_y:.2f}')\n",
    "print(f'Added Value {y} -> {X}: {av_y_X:.2f}')"
   ]
  },
  {
   "cell_type": "code",
   "execution_count": null,
   "metadata": {},
   "outputs": [],
   "source": [
    "conn.close()"
   ]
  }
 ],
 "metadata": {
  "kernelspec": {
   "display_name": "Python 3",
   "language": "python",
   "name": "python3"
  },
  "language_info": {
   "codemirror_mode": {
    "name": "ipython",
    "version": 3
   },
   "file_extension": ".py",
   "mimetype": "text/x-python",
   "name": "python",
   "nbconvert_exporter": "python",
   "pygments_lexer": "ipython3",
   "version": "3.7.3"
  }
 },
 "nbformat": 4,
 "nbformat_minor": 2
}
