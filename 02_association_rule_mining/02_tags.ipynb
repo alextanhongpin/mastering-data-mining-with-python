{
 "cells": [
  {
   "cell_type": "code",
   "execution_count": 144,
   "metadata": {},
   "outputs": [],
   "source": [
    "import sqlite3"
   ]
  },
  {
   "cell_type": "code",
   "execution_count": 145,
   "metadata": {},
   "outputs": [
    {
     "name": "stdout",
     "output_type": "stream",
     "text": [
      "file exist\n"
     ]
    }
   ],
   "source": [
    "%%bash\n",
    "\n",
    "if [ ! -e \"test.db\" ]; then\n",
    "    # Run this command TWICE to create and prepopulate the table.\n",
    "    sqlite3 test.db < data/fc_project_tags.sql\n",
    "else\n",
    "    echo 'file exist'\n",
    "fi"
   ]
  },
  {
   "cell_type": "code",
   "execution_count": 166,
   "metadata": {},
   "outputs": [],
   "source": [
    "conn = sqlite3.connect('test.db')\n",
    "c = conn.cursor()"
   ]
  },
  {
   "cell_type": "code",
   "execution_count": 169,
   "metadata": {},
   "outputs": [],
   "source": [
    "c.execute('''\n",
    "    CREATE TABLE IF NOT EXISTS fc_project_tag_pairs (\n",
    "        tag1 varchar(255) NOT NULL,\n",
    "        tag2 varchar(255) NOT NULL,\n",
    "        num_projs int(11) NOT NULL\n",
    "    )\n",
    "''').fetchone()"
   ]
  },
  {
   "cell_type": "code",
   "execution_count": 170,
   "metadata": {},
   "outputs": [],
   "source": [
    "c.execute('''\n",
    "    CREATE TABLE IF NOT EXISTS fc_project_tag_triples (\n",
    "        tag1 varchar(255) NOT NULL,\n",
    "        tag2 varchar(255) NOT NULL,\n",
    "        tag3 varchar(255) NOT NULL,\n",
    "        num_projs int(11) NOT NULL\n",
    "    )\n",
    "''').fetchone()"
   ]
  },
  {
   "cell_type": "code",
   "execution_count": 171,
   "metadata": {},
   "outputs": [
    {
     "data": {
      "text/plain": [
       "(353400,)"
      ]
     },
     "execution_count": 171,
     "metadata": {},
     "output_type": "execute_result"
    }
   ],
   "source": [
    "c.execute('SELECT COUNT(*) FROM fc_project_tags').fetchone()"
   ]
  },
  {
   "cell_type": "code",
   "execution_count": 148,
   "metadata": {},
   "outputs": [
    {
     "data": {
      "text/plain": [
       "(11006,)"
      ]
     },
     "execution_count": 148,
     "metadata": {},
     "output_type": "execute_result"
    }
   ],
   "source": [
    "c.execute('SELECT COUNT(DISTINCT(tag_name)) FROM fc_project_tags').fetchone()"
   ]
  },
  {
   "cell_type": "code",
   "execution_count": 149,
   "metadata": {},
   "outputs": [
    {
     "data": {
      "text/plain": [
       "(46510,)"
      ]
     },
     "execution_count": 149,
     "metadata": {},
     "output_type": "execute_result"
    }
   ],
   "source": [
    "c.execute('SELECT COUNT(DISTINCT(project_id)) FROM fc_project_tags').fetchone()"
   ]
  },
  {
   "cell_type": "code",
   "execution_count": 150,
   "metadata": {},
   "outputs": [
    {
     "name": "stdout",
     "output_type": "stream",
     "text": [
      "GPL                           :21182\n",
      "POSIX                         :16875\n",
      "Linux                         :16288\n",
      "C                             :10292\n",
      "OS Independent                :10180\n",
      "Software Development          : 9619\n",
      "Internet                      : 8100\n",
      "Windows                       : 7572\n",
      "Java                          : 6394\n",
      "Web                           : 6267\n"
     ]
    }
   ],
   "source": [
    "# The table has two columns - project_id and tag_name;\n",
    "stmt = '''\n",
    "    SELECT tag_name, COUNT(*) AS total \n",
    "    FROM fc_project_tags \n",
    "    GROUP BY tag_name \n",
    "    ORDER BY total desc \n",
    "    LIMIT 10\n",
    "'''\n",
    "res = c.execute(stmt).fetchall()\n",
    "for tag, count in res:\n",
    "    print(f'{tag:30}:{count:>5}')"
   ]
  },
  {
   "cell_type": "code",
   "execution_count": 159,
   "metadata": {},
   "outputs": [
    {
     "ename": "ProgrammingError",
     "evalue": "Cannot operate on a closed database.",
     "output_type": "error",
     "traceback": [
      "\u001b[0;31m---------------------------------------------------------------------------\u001b[0m",
      "\u001b[0;31mProgrammingError\u001b[0m                          Traceback (most recent call last)",
      "\u001b[0;32m<ipython-input-159-e144f5287005>\u001b[0m in \u001b[0;36m<module>\u001b[0;34m\u001b[0m\n\u001b[1;32m      6\u001b[0m     \u001b[0mLIMIT\u001b[0m \u001b[0;36m10\u001b[0m\u001b[0;34m\u001b[0m\u001b[0;34m\u001b[0m\u001b[0m\n\u001b[1;32m      7\u001b[0m '''\n\u001b[0;32m----> 8\u001b[0;31m \u001b[0mres\u001b[0m \u001b[0;34m=\u001b[0m \u001b[0mconn\u001b[0m\u001b[0;34m.\u001b[0m\u001b[0mexecute\u001b[0m\u001b[0;34m(\u001b[0m\u001b[0mstmt\u001b[0m\u001b[0;34m)\u001b[0m\u001b[0;34m.\u001b[0m\u001b[0mfetchall\u001b[0m\u001b[0;34m(\u001b[0m\u001b[0;34m)\u001b[0m\u001b[0;34m\u001b[0m\u001b[0;34m\u001b[0m\u001b[0m\n\u001b[0m\u001b[1;32m      9\u001b[0m \u001b[0;32mfor\u001b[0m \u001b[0mproject_id\u001b[0m\u001b[0;34m,\u001b[0m \u001b[0mcount\u001b[0m\u001b[0;34m,\u001b[0m \u001b[0mtags\u001b[0m \u001b[0;32min\u001b[0m \u001b[0mres\u001b[0m\u001b[0;34m:\u001b[0m\u001b[0;34m\u001b[0m\u001b[0;34m\u001b[0m\u001b[0m\n\u001b[1;32m     10\u001b[0m     \u001b[0mprint\u001b[0m\u001b[0;34m(\u001b[0m\u001b[0mproject_id\u001b[0m\u001b[0;34m,\u001b[0m \u001b[0mcount\u001b[0m\u001b[0;34m,\u001b[0m \u001b[0mtags\u001b[0m\u001b[0;34m.\u001b[0m\u001b[0msplit\u001b[0m\u001b[0;34m(\u001b[0m\u001b[0;34m','\u001b[0m\u001b[0;34m)\u001b[0m\u001b[0;34m[\u001b[0m\u001b[0;34m:\u001b[0m\u001b[0;36m3\u001b[0m\u001b[0;34m]\u001b[0m\u001b[0;34m)\u001b[0m\u001b[0;34m\u001b[0m\u001b[0;34m\u001b[0m\u001b[0m\n",
      "\u001b[0;31mProgrammingError\u001b[0m: Cannot operate on a closed database."
     ]
    }
   ],
   "source": [
    "stmt = '''\n",
    "    SELECT project_id, COUNT(*) AS total, GROUP_CONCAT(tag_name)\n",
    "    FROM fc_project_tags \n",
    "    GROUP BY project_id \n",
    "    ORDER BY total DESC \n",
    "    LIMIT 10\n",
    "'''\n",
    "res = conn.execute(stmt).fetchall()\n",
    "for project_id, count, tags in res:\n",
    "    print(project_id, count, tags.split(',')[:3])"
   ]
  },
  {
   "cell_type": "code",
   "execution_count": 152,
   "metadata": {},
   "outputs": [],
   "source": [
    "# Set percentage threshold for min support.\n",
    "MIN_SUPPORT_PCT = 5"
   ]
  },
  {
   "cell_type": "code",
   "execution_count": 153,
   "metadata": {},
   "outputs": [
    {
     "data": {
      "text/plain": [
       "46510"
      ]
     },
     "execution_count": 153,
     "metadata": {},
     "output_type": "execute_result"
    }
   ],
   "source": [
    "basket_count_stmt = '''\n",
    "    SELECT COUNT(DISTINCT(project_id))\n",
    "    FROM fc_project_tags\n",
    "'''\n",
    "basket_count = c.execute(basket_count_stmt).fetchone()[0]\n",
    "basket_count"
   ]
  },
  {
   "cell_type": "code",
   "execution_count": 154,
   "metadata": {},
   "outputs": [
    {
     "data": {
      "text/plain": [
       "'Min support is 2325.5'"
      ]
     },
     "execution_count": 154,
     "metadata": {},
     "output_type": "execute_result"
    }
   ],
   "source": [
    "min_support = MIN_SUPPORT_PCT / 100 * basket_count\n",
    "f'Min support is {min_support}'"
   ]
  },
  {
   "cell_type": "code",
   "execution_count": 155,
   "metadata": {},
   "outputs": [
    {
     "data": {
      "text/plain": [
       "29"
      ]
     },
     "execution_count": 155,
     "metadata": {},
     "output_type": "execute_result"
    }
   ],
   "source": [
    "# Get the tags that meets the minimum support.\n",
    "get_tags_stmt = '''\n",
    "    SELECT DISTINCT tag_name\n",
    "    FROM fc_project_tags\n",
    "    GROUP BY tag_name\n",
    "    HAVING COUNT (project_id) >= ?\n",
    "    ORDER BY tag_name\n",
    "'''\n",
    "res = c.execute(get_tags_stmt, (min_support,)).fetchall()\n",
    "len(res)"
   ]
  },
  {
   "cell_type": "code",
   "execution_count": 156,
   "metadata": {},
   "outputs": [
    {
     "data": {
      "text/plain": [
       "\"Found 29 singletons: ['BSD', 'C', 'C++', 'Communications', 'Desktop Environment', 'Dynamic Content', 'English', 'GPL', 'GPLv3', 'Games/Entertainment', 'Internet', 'Java', 'LGPL', 'Libraries', 'Linux', 'Mac OS X', 'Networking', 'OS Independent', 'PHP', 'POSIX', 'Perl', 'Python', 'Scientific/Engineering', 'Software Development', 'Unix', 'Utilities', 'Web', 'Windows', 'multimedia']\""
      ]
     },
     "execution_count": 156,
     "metadata": {},
     "output_type": "execute_result"
    }
   ],
   "source": [
    "singletons = [row[0] for row in res]\n",
    "f'Found {len(singletons)} singletons: {singletons}'"
   ]
  },
  {
   "cell_type": "code",
   "execution_count": 157,
   "metadata": {},
   "outputs": [],
   "source": [
    "conn.close()"
   ]
  },
  {
   "cell_type": "code",
   "execution_count": 160,
   "metadata": {},
   "outputs": [
    {
     "data": {
      "text/plain": [
       "[[1, 2, 3],\n",
       " [1, 2, 4],\n",
       " [1, 2, 5],\n",
       " [1, 3, 4],\n",
       " [1, 3, 5],\n",
       " [1, 4, 5],\n",
       " [2, 3, 4],\n",
       " [2, 3, 5],\n",
       " [2, 4, 5],\n",
       " [3, 4, 5]]"
      ]
     },
     "execution_count": 160,
     "metadata": {},
     "output_type": "execute_result"
    }
   ],
   "source": [
    "a = [1,2,3,4,5]\n",
    "\n",
    "def combination(a, k = 2):\n",
    "    result = []\n",
    "\n",
    "    def iterate(a, b):\n",
    "        for i, a_i in enumerate(a):\n",
    "            c = b + [a_i]\n",
    "            if len(c) == k:\n",
    "                result.append(c)\n",
    "            if len(c) < k:\n",
    "                iterate(a[i+1:], b + [a_i])\n",
    "    iterate(a, [])\n",
    "\n",
    "    return result\n",
    "\n",
    "# This produces the same results as itertools.combinations\n",
    "# import itertools\n",
    "# list(itertools.combinations(a, 3))\n",
    "combination(a, 3)"
   ]
  },
  {
   "cell_type": "code",
   "execution_count": 186,
   "metadata": {},
   "outputs": [],
   "source": [
    "doubletons = set()\n",
    "doubletons_set = set()\n",
    "\n",
    "def find_doubletons():\n",
    "    # Use the list of singletons to generate the doubletons candidate.\n",
    "    doubleton_candidates = combination(singletons, 2)\n",
    "    \n",
    "    c = conn.cursor()\n",
    "    for index, candidate in enumerate(doubleton_candidates):\n",
    "        # Check if the doubleton candidate is frequent.\n",
    "        tag1, tag2 = candidate\n",
    "        \n",
    "        res = c.execute('''\n",
    "            SELECT COUNT(fpt1.project_id)\n",
    "            FROM fc_project_tags fpt1\n",
    "            INNER JOIN fc_project_tags fpt2 \n",
    "            ON (fpt1.project_id = fpt2.project_id)\n",
    "            WHERE fpt1.tag_name = ?\n",
    "            AND fpt2.tag_name = ?\n",
    "        ''', (tag1, tag2)).fetchone()\n",
    "        \n",
    "        count = res[0]\n",
    "        \n",
    "        # Add frequet doubleton to database.\n",
    "        if count > min_support:\n",
    "            print(f'{tag1}, {tag2}, [{count}]')\n",
    "            \n",
    "            c.execute('''\n",
    "                INSERT INTO fc_project_tag_pairs(tag1, tag2, num_projs)\n",
    "                VALUES (?, ?, ?)\n",
    "            ''', (tag1, tag2, count))\n",
    "            \n",
    "            # Save the frequent doubleton to our final list.\n",
    "            doubletons_set.add((tag1, tag2))\n",
    "            \n",
    "            # Add terms to a set of all doubleton terms (no duplicates).\n",
    "            doubletons.add(tag1)\n",
    "            doubletons.add(tag2)\n",
    "            \n",
    "    # Persist to database.\n",
    "    conn.commit()"
   ]
  },
  {
   "cell_type": "code",
   "execution_count": 187,
   "metadata": {},
   "outputs": [
    {
     "name": "stdout",
     "output_type": "stream",
     "text": [
      "C, GPL, [5543]\n",
      "C, Linux, [5653]\n",
      "C, POSIX, [6956]\n",
      "C++, GPL, [2914]\n",
      "C++, Linux, [3428]\n",
      "C++, POSIX, [3502]\n",
      "Communications, GPL, [2578]\n",
      "Dynamic Content, Internet, [3173]\n",
      "Dynamic Content, Web, [3171]\n",
      "English, Linux, [2662]\n",
      "GPL, Internet, [4038]\n",
      "GPL, Linux, [8038]\n",
      "GPL, OS Independent, [4405]\n",
      "GPL, PHP, [2376]\n",
      "GPL, POSIX, [10069]\n",
      "GPL, Software Development, [3319]\n",
      "GPL, Web, [2901]\n",
      "GPL, Windows, [2605]\n",
      "GPL, multimedia, [2883]\n",
      "Internet, OS Independent, [3007]\n",
      "Internet, POSIX, [2832]\n",
      "Internet, Web, [5978]\n",
      "Java, OS Independent, [3436]\n",
      "Java, Software Development, [2360]\n",
      "Libraries, Software Development, [5638]\n",
      "Linux, Mac OS X, [2974]\n",
      "Linux, POSIX, [11903]\n",
      "Linux, Software Development, [2336]\n",
      "Linux, Unix, [2494]\n",
      "Linux, Windows, [5281]\n",
      "Mac OS X, Windows, [3131]\n",
      "OS Independent, Software Development, [3566]\n",
      "OS Independent, Web, [2605]\n",
      "POSIX, Software Development, [3503]\n",
      "POSIX, Unix, [2326]\n",
      "POSIX, Windows, [4467]\n",
      "POSIX, multimedia, [2539]\n"
     ]
    }
   ],
   "source": [
    "if len(doubletons) == 0:\n",
    "    find_doubletons()"
   ]
  },
  {
   "cell_type": "code",
   "execution_count": 198,
   "metadata": {},
   "outputs": [],
   "source": [
    "def find_tripletons():\n",
    "    # Use the list of doubletons to make the tripletons candidates.\n",
    "    tripleton_candidates = combination(list(doubletons), 3)\n",
    "\n",
    "    # Sort each candidate tuple and add these to a new sorted candidate list.\n",
    "    tripleton_candidates_sorted = []\n",
    "    for tc in tripleton_candidates:\n",
    "        tripleton_candidates_sorted.append(sorted(tc))\n",
    "    \n",
    "    # Prepare cursor.\n",
    "    c = conn.cursor()\n",
    "    \n",
    "    # Figure out if this candidate is frequent.\n",
    "    for index, candidate in enumerate(tripleton_candidates_sorted):\n",
    "        # All doubletons insude this tripleton candidate MUST also be frequent.\n",
    "        doubletons_inside_tripletons = combination(candidate, 2)\n",
    "        \n",
    "        tripleton_candidate_rejected = 0\n",
    "        for index, doubleton in enumerate(doubletons_inside_tripletons):\n",
    "            doubleton_tuple = (doubleton[0], doubleton[1])\n",
    "            if doubleton_tuple not in doubletons_set:\n",
    "                tripleton_candidate_rejected = 1\n",
    "                break\n",
    "        \n",
    "        if tripleton_candidate_rejected > 0:\n",
    "            continue\n",
    "        \n",
    "        # Add frequent tripleton to the database.\n",
    "        res = c.execute('''\n",
    "            SELECT count(fpt1.project_id)\n",
    "            FROM fc_project_tags fpt1\n",
    "            INNER JOIN fc_project_tags fpt2\n",
    "            ON (fpt1.project_id = fpt2.project_id)\n",
    "            INNER JOIN fc_project_tags fpt3\n",
    "            ON (fpt2.project_id = fpt3.project_id)\n",
    "            WHERE fpt1.tag_name = ? AND\n",
    "                  fpt2.tag_name = ? AND\n",
    "                  fpt3.tag_name = ?\n",
    "        ''', (candidate[0], \n",
    "              candidate[1], \n",
    "              candidate[2])).fetchone()\n",
    "        \n",
    "        count = res[0]\n",
    "        \n",
    "        if count > min_support:\n",
    "            print(f'{candidate} [{count}]')\n",
    "            \n",
    "            c.execute('''\n",
    "                INSERT INTO fc_project_tag_triples \n",
    "                    (tag1, tag2, tag3, num_projs)\n",
    "                VALUES (?, ?, ?, ?)\n",
    "            ''', (candidate[0],\n",
    "                  candidate[1],\n",
    "                  candidate[2],\n",
    "                  count))"
   ]
  },
  {
   "cell_type": "code",
   "execution_count": 199,
   "metadata": {},
   "outputs": [
    {
     "name": "stdout",
     "output_type": "stream",
     "text": [
      "['C', 'GPL', 'POSIX'] [4364]\n",
      "['C', 'Linux', 'POSIX'] [4629]\n",
      "['C++', 'Linux', 'POSIX'] [2622]\n",
      "['Linux', 'POSIX', 'Windows'] [3315]\n",
      "['GPL', 'Linux', 'POSIX'] [7384]\n",
      "['C', 'GPL', 'Linux'] [3299]\n",
      "['Internet', 'OS Independent', 'Web'] [2519]\n",
      "['Dynamic Content', 'Internet', 'Web'] [3166]\n",
      "['GPL', 'Internet', 'Web'] [2878]\n"
     ]
    }
   ],
   "source": [
    "find_tripletons()"
   ]
  },
  {
   "cell_type": "code",
   "execution_count": 200,
   "metadata": {},
   "outputs": [],
   "source": [
    "def generate_rules():\n",
    "    pass"
   ]
  },
  {
   "cell_type": "code",
   "execution_count": null,
   "metadata": {},
   "outputs": [],
   "source": []
  }
 ],
 "metadata": {
  "kernelspec": {
   "display_name": "Python 3",
   "language": "python",
   "name": "python3"
  },
  "language_info": {
   "codemirror_mode": {
    "name": "ipython",
    "version": 3
   },
   "file_extension": ".py",
   "mimetype": "text/x-python",
   "name": "python",
   "nbconvert_exporter": "python",
   "pygments_lexer": "ipython3",
   "version": "3.7.3"
  }
 },
 "nbformat": 4,
 "nbformat_minor": 2
}
