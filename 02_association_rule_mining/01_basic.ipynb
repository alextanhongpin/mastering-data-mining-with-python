{
 "cells": [
  {
   "cell_type": "markdown",
   "metadata": {},
   "source": [
    "# Association Rule Mining\n"
   ]
  },
  {
   "cell_type": "markdown",
   "metadata": {},
   "source": [
    "## Support\n",
    "\n",
    "The support of $X->Y$ equas the percentage of basket that contains both X and Y. We count how many baskets contains both items, and divide them by the total number of baskets.\n",
    "\n",
    "$support(X -> Y) = P(X \\cup Y)$"
   ]
  },
  {
   "cell_type": "markdown",
   "metadata": {},
   "source": [
    "## Confidence\n",
    "\n",
    "The confidence of X leading to Y is the probablity of Y given X. In other words, it is the percentage of baskets that contains both X and Y divided by the percentage of baskets that contains just X.\n",
    "\n",
    "$confidence(X -> Y) = P(Y|X)$"
   ]
  },
  {
   "cell_type": "markdown",
   "metadata": {},
   "source": [
    "## Association Rules\n",
    "\n",
    "We read the following association rules as follow: 1% of all baskets have the combination of vanilla wafers, bananas and whipped cream. 40% of customers who purchased vanilla wafers also purchased bananas and whipped cream.\n",
    "\n",
    "```\n",
    "vanilla wafers -> bananas, whipped cream\n",
    "[support=1%, confidence=40%]\n",
    "```\n",
    "\n",
    "The left hand side is the determining item, called the __antecedent__.\n",
    "\n",
    "The right hand side is the resulting item, called the __consequent__."
   ]
  },
  {
   "cell_type": "code",
   "execution_count": 17,
   "metadata": {},
   "outputs": [],
   "source": [
    "from collections import Counter"
   ]
  },
  {
   "cell_type": "code",
   "execution_count": 16,
   "metadata": {},
   "outputs": [
    {
     "data": {
      "text/plain": [
       "[['vanilla wafers', 'bananas', 'dog food'],\n",
       " ['bananas', 'bread', 'yogurt'],\n",
       " ['bananas', 'apples', 'yogurt'],\n",
       " ['vanilla wafers', 'bananas', 'whipped cream'],\n",
       " ['bread', 'vanilla wafers', 'yogurt'],\n",
       " ['milk', 'bread', 'bananas'],\n",
       " ['vanilla wafers', 'apples', 'bananas'],\n",
       " ['yogurt', 'apples', 'vanilla wafers'],\n",
       " ['vanilla wafers', 'bananas', 'milk'],\n",
       " ['bananas', 'bread', 'peanut butter']]"
      ]
     },
     "execution_count": 16,
     "metadata": {},
     "output_type": "execute_result"
    }
   ],
   "source": [
    "data = [['vanilla wafers', 'bananas', 'dog food'],\n",
    "        ['bananas', 'bread','yogurt'],\n",
    "        ['bananas', 'apples', 'yogurt'],\n",
    "        ['vanilla wafers', 'bananas', 'whipped cream'],\n",
    "        ['bread', 'vanilla wafers', 'yogurt'],\n",
    "        ['milk', 'bread', 'bananas'],\n",
    "        ['vanilla wafers', 'apples', 'bananas'],\n",
    "        ['yogurt', 'apples', 'vanilla wafers'],\n",
    "        ['vanilla wafers', 'bananas', 'milk'],\n",
    "        ['bananas', 'bread', 'peanut butter']]\n",
    "data"
   ]
  },
  {
   "cell_type": "code",
   "execution_count": 35,
   "metadata": {},
   "outputs": [
    {
     "data": {
      "text/plain": [
       "Counter({'apples': 3,\n",
       "         'bananas': 8,\n",
       "         'bread': 4,\n",
       "         'dog food': 1,\n",
       "         'milk': 2,\n",
       "         'peanut butter': 1,\n",
       "         'vanilla wafers': 6,\n",
       "         'whipped cream': 1,\n",
       "         'yogurt': 4})"
      ]
     },
     "execution_count": 35,
     "metadata": {},
     "output_type": "execute_result"
    }
   ],
   "source": [
    "# Find the individual support for each item in the basket.\n",
    "flattened = sorted([item \n",
    "                    for items in data \n",
    "                    for item in items])\n",
    "supports = Counter(flattened)\n",
    "supports"
   ]
  },
  {
   "cell_type": "code",
   "execution_count": 40,
   "metadata": {},
   "outputs": [
    {
     "data": {
      "text/plain": [
       "0.4"
      ]
     },
     "execution_count": 40,
     "metadata": {},
     "output_type": "execute_result"
    }
   ],
   "source": [
    "# How to calculate the support for {vanilla wafers, bananas}?\n",
    "# support(vanilla wafers -> bananas) is the percentage of baskets that contains both vanilla wafers and bananas.\n",
    "vanilla_wafers_and_bananas = 0\n",
    "for basket in data:\n",
    "    if 'vanilla wafers' in basket and 'bananas' in basket:\n",
    "        vanilla_wafers_and_bananas += 1\n",
    "support = vanilla_wafers_and_bananas / len(data)\n",
    "support"
   ]
  },
  {
   "cell_type": "code",
   "execution_count": 46,
   "metadata": {},
   "outputs": [
    {
     "data": {
      "text/plain": [
       "'vanilla wafers -> bananas [support=40%, confidence=67%]'"
      ]
     },
     "execution_count": 46,
     "metadata": {},
     "output_type": "execute_result"
    }
   ],
   "source": [
    "# How to calculate the confidence(vanilla wafers -> bananas)?\n",
    "# The percentage of baskets containing both vanilla wafers and bananas over the baskets containing vanilla wafers.\n",
    "confidence = vanilla_wafers_and_bananas / supports['vanilla wafers']\n",
    "f'vanilla wafers -> bananas [support={support*100:.0f}%, confidence={confidence * 100:.0f}%]'"
   ]
  },
  {
   "cell_type": "code",
   "execution_count": 47,
   "metadata": {},
   "outputs": [
    {
     "data": {
      "text/plain": [
       "'bananas -> vanilla wafers [support=40%, confidence=50%]'"
      ]
     },
     "execution_count": 47,
     "metadata": {},
     "output_type": "execute_result"
    }
   ],
   "source": [
    "# The opposite rule might not produce the same results.\n",
    "# confidence(bananas/vanilla wafers).\n",
    "confidence = vanilla_wafers_and_bananas / supports['bananas']\n",
    "f'bananas -> vanilla wafers [support={support*100:.0f}%, confidence={confidence * 100:.0f}%]'"
   ]
  },
  {
   "cell_type": "markdown",
   "metadata": {},
   "source": [
    "### Conclusion\n",
    "The rule `vanilla wafers -> bananas` is higher than `bananas -> vanilla wafers` (same support, higher confidence)."
   ]
  },
  {
   "cell_type": "markdown",
   "metadata": {},
   "source": [
    "## Added Value\n",
    "\n",
    "We can calculate the added value like this to measure if pairing the items in the baskets is better than displaying the items individually. If the added value is positive, people are more likely to buy the paired items. If it is negative, the individual items fares better.\n",
    "```\n",
    "added value = confidence of rule - support of right side\n",
    "```"
   ]
  },
  {
   "cell_type": "code",
   "execution_count": 59,
   "metadata": {},
   "outputs": [
    {
     "data": {
      "text/plain": [
       "0.37499999999999994"
      ]
     },
     "execution_count": 59,
     "metadata": {},
     "output_type": "execute_result"
    }
   ],
   "source": [
    "# An array of item and the support value.\n",
    "data = [['vanilla wafers', 0.8],\n",
    "        ['bananas', 0.3],\n",
    "        ['vanilla wafers, bananas', 0.3]]\n",
    "\n",
    "# Observation: The support of individual items are higher than the support of paired items.\n",
    "\n",
    "# What is the confidence(vanilla wafers -> bananas)?\n",
    "# confidence(vanilla wafers -> bananas) = support(vanilla wafers U bananas) / support(vanilla wafers)\n",
    "confidence = data[-1][-1] / data[0][1]\n",
    "confidence"
   ]
  },
  {
   "cell_type": "code",
   "execution_count": 60,
   "metadata": {},
   "outputs": [
    {
     "data": {
      "text/plain": [
       "-0.4250000000000001"
      ]
     },
     "execution_count": 60,
     "metadata": {},
     "output_type": "execute_result"
    }
   ],
   "source": [
    "support_bananas = data[0][-1]\n",
    "added_value = confidence - support_bananas\n",
    "added_value"
   ]
  },
  {
   "cell_type": "code",
   "execution_count": 63,
   "metadata": {},
   "outputs": [
    {
     "data": {
      "text/plain": [
       "1.0"
      ]
     },
     "execution_count": 63,
     "metadata": {},
     "output_type": "execute_result"
    }
   ],
   "source": [
    "# A different support value for vanilla wafers.\n",
    "data = [['vanilla wafers', 0.3],\n",
    "        ['bananas', 0.3],\n",
    "        ['vanilla wafers, bananas', 0.3]]\n",
    "\n",
    "confidence = data[-1][-1] / data[0][1]\n",
    "\n",
    "# Our confidence is now 1.0, which means that people that buys vanilla wafers will also buy bananas! \n",
    "confidences"
   ]
  },
  {
   "cell_type": "code",
   "execution_count": 62,
   "metadata": {},
   "outputs": [
    {
     "data": {
      "text/plain": [
       "0.7"
      ]
     },
     "execution_count": 62,
     "metadata": {},
     "output_type": "execute_result"
    }
   ],
   "source": [
    "support_bananas = data[0][-1]\n",
    "added_value = confidence - support_bananas\n",
    "added_value"
   ]
  }
 ],
 "metadata": {
  "kernelspec": {
   "display_name": "Python 3",
   "language": "python",
   "name": "python3"
  },
  "language_info": {
   "codemirror_mode": {
    "name": "ipython",
    "version": 3
   },
   "file_extension": ".py",
   "mimetype": "text/x-python",
   "name": "python",
   "nbconvert_exporter": "python",
   "pygments_lexer": "ipython3",
   "version": "3.7.3"
  }
 },
 "nbformat": 4,
 "nbformat_minor": 2
}
