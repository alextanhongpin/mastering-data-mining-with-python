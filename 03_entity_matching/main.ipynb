{
 "cells": [
  {
   "cell_type": "code",
   "execution_count": 123,
   "metadata": {},
   "outputs": [],
   "source": [
    "# %%bash\n",
    "\n",
    "# rm test.db\n",
    "# sqlite3 test.db '.read data/RFRGdata.sql'"
   ]
  },
  {
   "cell_type": "code",
   "execution_count": 128,
   "metadata": {},
   "outputs": [],
   "source": [
    "# %load soundex.py\n",
    "\"\"\"\n",
    "soundex module conforming to Knuth's algorithm\n",
    "implementation 2000-12-24 by Gregory Jorgensen\n",
    "public domain\n",
    "available at:\n",
    "http://code.activestate.com/recipes/52213-soundex-algorithm/\n",
    "\"\"\"\n",
    "\n",
    "\n",
    "def soundex(name, len=4):\n",
    "    # digits holds the soundex values for the alphabet\n",
    "    digits = '01230120022455012623010202'\n",
    "    sndx = ''\n",
    "    fc = ''\n",
    "\n",
    "    # translate alpha chars in name to soundex digits\n",
    "    for c in name.upper():\n",
    "        if c.isalpha():\n",
    "            if not fc:\n",
    "                fc = c   # remember first letter\n",
    "            d = digits[ord(c)-ord('A')]\n",
    "            # duplicate consecutive soundex digits are skipped\n",
    "            if not sndx or (d != sndx[-1]):\n",
    "                sndx += d\n",
    "\n",
    "    # replace first digit with first alpha character\n",
    "    sndx = fc + sndx[1:]\n",
    "\n",
    "    # remove all 0s from the soundex code\n",
    "    sndx = sndx.replace('0', '')\n",
    "\n",
    "    # return soundex code padded to len characters\n",
    "    return (sndx + (len * '0'))[:len]"
   ]
  },
  {
   "cell_type": "markdown",
   "metadata": {},
   "source": [
    "# Entity Matching\n",
    "\n",
    "Approach:\n",
    "\n",
    "1. Run SQL to find project pairs with matching URLs. Add these to the candidate list.\n",
    "2. Run SQL to find project pairs with matching names. Add these to the candidate list.\n",
    "3. For each candidate pair.\n",
    "    1. Calculate the levenshtein distance on URLs.\n",
    "    2. Calculate the levenshtein distance on names.\n",
    "    3. Set Boolean: is the RubyForge name found in the RubyGems name?\n",
    "    4. Set Boolean: is the RubyForge name found in the RubyGems URL?\n",
    "    5. Set Boolean: is the RubyForge developer found on the list of RubyGems developer."
   ]
  },
  {
   "cell_type": "code",
   "execution_count": 102,
   "metadata": {},
   "outputs": [],
   "source": [
    "import sqlite3"
   ]
  },
  {
   "cell_type": "code",
   "execution_count": 103,
   "metadata": {},
   "outputs": [],
   "source": [
    "conn = sqlite3.connect('test.db')"
   ]
  },
  {
   "cell_type": "code",
   "execution_count": 104,
   "metadata": {},
   "outputs": [
    {
     "data": {
      "text/plain": [
       "[('book_rf_entities',),\n",
       " ('book_rf_entity_people',),\n",
       " ('book_rf_entity_topics',),\n",
       " ('book_rg_entities',),\n",
       " ('book_rg_entity_people',)]"
      ]
     },
     "execution_count": 104,
     "metadata": {},
     "output_type": "execute_result"
    }
   ],
   "source": [
    "conn.cursor().execute('SELECT name FROM sqlite_master WHERE type=\"table\"').fetchall()"
   ]
  },
  {
   "cell_type": "code",
   "execution_count": 105,
   "metadata": {},
   "outputs": [],
   "source": [
    "# NOTE: rf: RubyForge, rg: RubyGems.\n",
    "conn.cursor().execute('''\n",
    "    CREATE TABLE IF NOT EXISTS book_entity_matches (\n",
    "        rf_project_name varchar(100) NOT NULL,\n",
    "        rg_project_name varchar(100) NOT NULL,\n",
    "        url_levenshtein int(11) DEFAULT NULL,\n",
    "        rf_name_soundex varchar(5) DEFAULT NULL,\n",
    "        rg_name_soundex varchar(5) DEFAULT NULL,\n",
    "        name_levenshtein int(11) DEFAULT NULL,\n",
    "        rf_name_in_rg_name tinyint(1) DEFAULT NULL,\n",
    "        rf_name_in_rg_url tinyint(1) DEFAULT NULL,\n",
    "        rf_dev_in_rg_dev tinyint(1) DEFAULT NULL,\n",
    "        PRIMARY KEY (rf_project_name, rg_project_name)\n",
    "    )\n",
    "''').fetchone()"
   ]
  },
  {
   "cell_type": "code",
   "execution_count": 106,
   "metadata": {},
   "outputs": [],
   "source": [
    "cursor = conn.cursor()"
   ]
  },
  {
   "cell_type": "code",
   "execution_count": 107,
   "metadata": {},
   "outputs": [],
   "source": [
    "# Get all projects with matching URLs.\n",
    "try:\n",
    "    cursor.execute('''\n",
    "        INSERT INTO book_entity_matches \n",
    "            (rf_project_name, rg_project_name)\n",
    "        SELECT rf.project_name, rg.project_name\n",
    "        FROM book_rf_entities rf\n",
    "        INNER JOIN book_rg_entities rg\n",
    "        ON rf.url = rg.url\n",
    "    ''')\n",
    "    conn.commit()\n",
    "except sqlite3.IntegrityError as e:\n",
    "    print('executed')"
   ]
  },
  {
   "cell_type": "code",
   "execution_count": 115,
   "metadata": {},
   "outputs": [],
   "source": [
    "# Get projects that have matching project names.\n",
    "try:\n",
    "    res = cursor.execute('''\n",
    "        INSERT INTO book_entity_matches \n",
    "            (rf_project_name, rg_project_name)\n",
    "        SELECT rf.project_name, rg.project_name\n",
    "        FROM book_rf_entities rf\n",
    "        INNER JOIN book_rg_entities rg\n",
    "        ON rf.project_name = rg.project_name\n",
    "        WHERE rf.project_name NOT IN (\n",
    "            SELECT bem.rf_project_name\n",
    "            FROM book_entity_matches bem\n",
    "        )\n",
    "    ''')\n",
    "    conn.commit()\n",
    "except sqlite3.IntegrityError as e:\n",
    "    print('executed')"
   ]
  },
  {
   "cell_type": "code",
   "execution_count": 120,
   "metadata": {},
   "outputs": [
    {
     "data": {
      "text/plain": [
       "('aafc',\n",
       " 'acts_as_flux_capacitor',\n",
       " 'http://aafc.rubyforge.org',\n",
       " 'http://aafc.rubyforge.org')"
      ]
     },
     "execution_count": 120,
     "metadata": {},
     "output_type": "execute_result"
    }
   ],
   "source": [
    "# Calculate the string metrics for each pair.\n",
    "c = conn.cursor()\n",
    "c.execute('''\n",
    "    SELECT bem.rf_project_name,\n",
    "           bem.rg_project_name,\n",
    "           rfe.url,\n",
    "           rge.url\n",
    "    FROM book_entity_matches bem\n",
    "    INNER JOIN book_rg_entities rge\n",
    "        ON bem.rg_project_name = rge.project_name\n",
    "    INNER JOIN book_rf_entities rfe\n",
    "        ON bem.rf_project_name = rfe.project_name\n",
    "    ORDER BY bem.rf_project_name\n",
    "''')\n",
    "project_pairs = c.fetchall()\n",
    "project_pairs[0]"
   ]
  },
  {
   "cell_type": "code",
   "execution_count": null,
   "metadata": {},
   "outputs": [],
   "source": [
    "for (rf_name, rg_name, rf_url, rg_url) in project_pairs:\n",
    "    rf_name_lower = rf_name.lower()\n",
    "    rg_name_lower = rg_name.lower()\n",
    "    rf_url_lower = rf_url.lower()\n",
    "    rg_url_lower = rg_url.lower()"
   ]
  },
  {
   "cell_type": "code",
   "execution_count": 122,
   "metadata": {},
   "outputs": [],
   "source": [
    "conn.close()"
   ]
  },
  {
   "cell_type": "code",
   "execution_count": null,
   "metadata": {},
   "outputs": [],
   "source": []
  }
 ],
 "metadata": {
  "kernelspec": {
   "display_name": "Python 3",
   "language": "python",
   "name": "python3"
  },
  "language_info": {
   "codemirror_mode": {
    "name": "ipython",
    "version": 3
   },
   "file_extension": ".py",
   "mimetype": "text/x-python",
   "name": "python",
   "nbconvert_exporter": "python",
   "pygments_lexer": "ipython3",
   "version": "3.7.3"
  }
 },
 "nbformat": 4,
 "nbformat_minor": 2
}
