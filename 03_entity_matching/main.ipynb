{
 "cells": [
  {
   "cell_type": "code",
   "execution_count": 56,
   "metadata": {},
   "outputs": [],
   "source": [
    "# %%bash\n",
    "\n",
    "# rm test.db\n",
    "# sqlite3 test.db '.read data/RFRGdata.sql'"
   ]
  },
  {
   "cell_type": "code",
   "execution_count": 57,
   "metadata": {},
   "outputs": [],
   "source": [
    "# %load soundex.py\n",
    "\"\"\"\n",
    "soundex module conforming to Knuth's algorithm\n",
    "implementation 2000-12-24 by Gregory Jorgensen\n",
    "public domain\n",
    "available at:\n",
    "http://code.activestate.com/recipes/52213-soundex-algorithm/\n",
    "\"\"\"\n",
    "\n",
    "\n",
    "def soundex(name, len=4):\n",
    "    # digits holds the soundex values for the alphabet\n",
    "    digits = '01230120022455012623010202'\n",
    "    sndx = ''\n",
    "    fc = ''\n",
    "\n",
    "    # translate alpha chars in name to soundex digits\n",
    "    for c in name.upper():\n",
    "        if c.isalpha():\n",
    "            if not fc:\n",
    "                fc = c   # remember first letter\n",
    "            d = digits[ord(c)-ord('A')]\n",
    "            # duplicate consecutive soundex digits are skipped\n",
    "            if not sndx or (d != sndx[-1]):\n",
    "                sndx += d\n",
    "\n",
    "    # replace first digit with first alpha character\n",
    "    sndx = fc + sndx[1:]\n",
    "\n",
    "    # remove all 0s from the soundex code\n",
    "    sndx = sndx.replace('0', '')\n",
    "\n",
    "    # return soundex code padded to len characters\n",
    "    return (sndx + (len * '0'))[:len]"
   ]
  },
  {
   "cell_type": "markdown",
   "metadata": {},
   "source": [
    "# Entity Matching\n",
    "\n",
    "Approach:\n",
    "\n",
    "1. Run SQL to find project pairs with matching URLs. Add these to the candidate list.\n",
    "2. Run SQL to find project pairs with matching names. Add these to the candidate list.\n",
    "3. For each candidate pair.\n",
    "    1. Calculate the levenshtein distance on URLs.\n",
    "    2. Calculate the levenshtein distance on names.\n",
    "    3. Set Boolean: is the RubyForge name found in the RubyGems name?\n",
    "    4. Set Boolean: is the RubyForge name found in the RubyGems URL?\n",
    "    5. Set Boolean: is the RubyForge developer found on the list of RubyGems developer."
   ]
  },
  {
   "cell_type": "code",
   "execution_count": 58,
   "metadata": {},
   "outputs": [],
   "source": [
    "import sqlite3\n",
    "from nltk.metrics import edit_distance\n",
    "from pprint import pprint"
   ]
  },
  {
   "cell_type": "code",
   "execution_count": 71,
   "metadata": {},
   "outputs": [],
   "source": [
    "conn = sqlite3.connect('test.db')"
   ]
  },
  {
   "cell_type": "code",
   "execution_count": 60,
   "metadata": {},
   "outputs": [
    {
     "name": "stdout",
     "output_type": "stream",
     "text": [
      "('CREATE TABLE `book_rg_entity_people` (\\n'\n",
      " '  `project_name` varchar(100) NOT NULL,\\n'\n",
      " '  `person_name` varchar(100) NOT NULL,\\n'\n",
      " '  PRIMARY KEY (`project_name`,`person_name`)\\n'\n",
      " ')',)\n"
     ]
    }
   ],
   "source": [
    "res = conn.cursor().execute('select sql from sqlite_master where name=\"book_rg_entity_people\"').fetchall()\n",
    "pprint(res[0])"
   ]
  },
  {
   "cell_type": "code",
   "execution_count": 72,
   "metadata": {},
   "outputs": [
    {
     "name": "stdout",
     "output_type": "stream",
     "text": [
      "('CREATE TABLE `book_rf_entity_people` (\\n'\n",
      " '  `project_name` varchar(100) NOT NULL,\\n'\n",
      " '  `dev_username` varchar(100) NOT NULL,\\n'\n",
      " '  `dev_realname` varchar(100) NOT NULL,\\n'\n",
      " '  PRIMARY KEY (`project_name`,`dev_username`)\\n'\n",
      " ')',)\n"
     ]
    }
   ],
   "source": [
    "res = conn.cursor().execute('select sql from sqlite_master where name=\"book_rf_entity_people\"').fetchall()\n",
    "pprint(res[0])"
   ]
  },
  {
   "cell_type": "code",
   "execution_count": 73,
   "metadata": {},
   "outputs": [
    {
     "name": "stdout",
     "output_type": "stream",
     "text": [
      "('CREATE TABLE book_entity_matches (\\n'\n",
      " '        rf_project_name varchar(100) NOT NULL,\\n'\n",
      " '        rg_project_name varchar(100) NOT NULL,\\n'\n",
      " '        url_levenshtein int(11) DEFAULT NULL,\\n'\n",
      " '        rf_name_soundex varchar(5) DEFAULT NULL,\\n'\n",
      " '        rg_name_soundex varchar(5) DEFAULT NULL,\\n'\n",
      " '        name_levenshtein int(11) DEFAULT NULL,\\n'\n",
      " '        rf_name_in_rg_name tinyint(1) DEFAULT NULL,\\n'\n",
      " '        rf_name_in_rg_url tinyint(1) DEFAULT NULL,\\n'\n",
      " '        rf_dev_in_rg_dev tinyint(1) DEFAULT NULL,\\n'\n",
      " '        PRIMARY KEY (rf_project_name, rg_project_name)\\n'\n",
      " '    )',)\n"
     ]
    }
   ],
   "source": [
    "res = conn.cursor().execute('select sql from sqlite_master where name=\"book_entity_matches\"').fetchall()\n",
    "pprint(res[0])"
   ]
  },
  {
   "cell_type": "code",
   "execution_count": 62,
   "metadata": {},
   "outputs": [
    {
     "data": {
      "text/plain": [
       "[('book_rf_entities',),\n",
       " ('book_rf_entity_people',),\n",
       " ('book_rf_entity_topics',),\n",
       " ('book_rg_entities',),\n",
       " ('book_rg_entity_people',),\n",
       " ('book_entity_matches',)]"
      ]
     },
     "execution_count": 62,
     "metadata": {},
     "output_type": "execute_result"
    }
   ],
   "source": [
    "conn.cursor().execute('SELECT name FROM sqlite_master WHERE type=\"table\"').fetchall()"
   ]
  },
  {
   "cell_type": "code",
   "execution_count": 63,
   "metadata": {},
   "outputs": [],
   "source": [
    "# NOTE: rf: RubyForge, rg: RubyGems.\n",
    "conn.cursor().execute('''\n",
    "    CREATE TABLE IF NOT EXISTS book_entity_matches (\n",
    "        rf_project_name varchar(100) NOT NULL,\n",
    "        rg_project_name varchar(100) NOT NULL,\n",
    "        url_levenshtein int(11) DEFAULT NULL,\n",
    "        rf_name_soundex varchar(5) DEFAULT NULL,\n",
    "        rg_name_soundex varchar(5) DEFAULT NULL,\n",
    "        name_levenshtein int(11) DEFAULT NULL,\n",
    "        rf_name_in_rg_name tinyint(1) DEFAULT NULL,\n",
    "        rf_name_in_rg_url tinyint(1) DEFAULT NULL,\n",
    "        rf_dev_in_rg_dev tinyint(1) DEFAULT NULL,\n",
    "        PRIMARY KEY (rf_project_name, rg_project_name)\n",
    "    )\n",
    "''').fetchone()"
   ]
  },
  {
   "cell_type": "code",
   "execution_count": 64,
   "metadata": {},
   "outputs": [],
   "source": [
    "cursor = conn.cursor()"
   ]
  },
  {
   "cell_type": "code",
   "execution_count": 65,
   "metadata": {},
   "outputs": [
    {
     "name": "stdout",
     "output_type": "stream",
     "text": [
      "executed\n"
     ]
    }
   ],
   "source": [
    "# Get all projects with matching URLs.\n",
    "try:\n",
    "    cursor.execute('''\n",
    "        INSERT INTO book_entity_matches \n",
    "            (rf_project_name, rg_project_name)\n",
    "        SELECT rf.project_name, rg.project_name\n",
    "        FROM book_rf_entities rf\n",
    "        INNER JOIN book_rg_entities rg\n",
    "        ON rf.url = rg.url\n",
    "    ''')\n",
    "    conn.commit()\n",
    "except sqlite3.IntegrityError as e:\n",
    "    print('executed')"
   ]
  },
  {
   "cell_type": "code",
   "execution_count": 66,
   "metadata": {},
   "outputs": [],
   "source": [
    "# Get projects that have matching project names.\n",
    "try:\n",
    "    res = cursor.execute('''\n",
    "        INSERT INTO book_entity_matches \n",
    "            (rf_project_name, rg_project_name)\n",
    "        SELECT rf.project_name, rg.project_name\n",
    "        FROM book_rf_entities rf\n",
    "        INNER JOIN book_rg_entities rg\n",
    "        ON rf.project_name = rg.project_name\n",
    "        WHERE rf.project_name NOT IN (\n",
    "            SELECT bem.rf_project_name\n",
    "            FROM book_entity_matches bem\n",
    "        )\n",
    "    ''')\n",
    "    conn.commit()\n",
    "except sqlite3.IntegrityError as e:\n",
    "    print('executed')"
   ]
  },
  {
   "cell_type": "code",
   "execution_count": 67,
   "metadata": {},
   "outputs": [
    {
     "data": {
      "text/plain": [
       "('aafc',\n",
       " 'acts_as_flux_capacitor',\n",
       " 'http://aafc.rubyforge.org',\n",
       " 'http://aafc.rubyforge.org')"
      ]
     },
     "execution_count": 67,
     "metadata": {},
     "output_type": "execute_result"
    }
   ],
   "source": [
    "# Calculate the string metrics for each pair.\n",
    "c = conn.cursor()\n",
    "c.execute('''\n",
    "    SELECT bem.rf_project_name,\n",
    "           bem.rg_project_name,\n",
    "           rfe.url,\n",
    "           rge.url\n",
    "    FROM book_entity_matches bem\n",
    "    INNER JOIN book_rg_entities rge\n",
    "        ON bem.rg_project_name = rge.project_name\n",
    "    INNER JOIN book_rf_entities rfe\n",
    "        ON bem.rf_project_name = rfe.project_name\n",
    "    ORDER BY bem.rf_project_name\n",
    "''')\n",
    "\n",
    "project_pairs = c.fetchall()\n",
    "project_pairs[0]"
   ]
  },
  {
   "cell_type": "code",
   "execution_count": 68,
   "metadata": {},
   "outputs": [],
   "source": [
    "cursor = conn.cursor()\n",
    "\n",
    "for (rf_name, rg_name, rf_url, rg_url) in project_pairs:\n",
    "    rf_name_lower = rf_name.lower()\n",
    "    rg_name_lower = rg_name.lower()\n",
    "    rf_url_lower = rf_url.lower()\n",
    "    rg_url_lower = rg_url.lower()\n",
    "    \n",
    "    lev_names = edit_distance(rf_name_lower, rg_name_lower)\n",
    "    lev_urls = edit_distance(rf_url_lower, rg_url_lower)\n",
    "    soundex_rf_name = soundex(rf_name_lower)\n",
    "    soundex_rg_name = soundex(rg_name_lower)\n",
    "    \n",
    "    # Is the RF project name inside the RG project name.\n",
    "    rf_in_rg_name = 1 if rf_name_lower in rg_name_lower else 0\n",
    "    rf_in_rg_url = 1 if rf_name_lower in rg_url_lower else 0\n",
    "    \n",
    "    # Do RF devs match the RG devs.\n",
    "    result = cursor.execute('''\n",
    "        SELECT rf.dev_username, rf.dev_realname\n",
    "        FROM book_rf_entity_people rf\n",
    "        WHERE rf.project_name = ?\n",
    "        AND rf.dev_username IN (\n",
    "            SELECT rg.person_name\n",
    "            FROM book_rg_entity_people rg\n",
    "            WHERE rg.project_name = ?\n",
    "        )\n",
    "        OR rf.dev_realname IN (\n",
    "            SELECT rg.person_name\n",
    "            FROM book_rg_entity_people rg\n",
    "            WHERE rg.project_name = ?\n",
    "        )\n",
    "    ''', (rf_name, rg_name, rg_name)).fetchone()\n",
    "    \n",
    "    rfdev_in_rgdev = 1 if result is not None else 0\n",
    "    \n",
    "    cursor.execute('''\n",
    "        UPDATE book_entity_matches\n",
    "        SET rf_name_soundex = ?,\n",
    "            rg_name_soundex = ?,\n",
    "            url_levenshtein = ?,\n",
    "            name_levenshtein = ?,\n",
    "            rf_name_in_rg_name = ?,\n",
    "            rf_name_in_rg_url = ?,\n",
    "            rf_dev_in_rg_dev = ?\n",
    "        WHERE rf_project_name = ?\n",
    "        AND rg_project_name = ?\n",
    "    ''', (soundex_rf_name,\n",
    "          soundex_rg_name,\n",
    "          lev_urls,\n",
    "          lev_names,\n",
    "          rf_in_rg_name,\n",
    "          rf_in_rg_url,\n",
    "          rfdev_in_rgdev,\n",
    "          rf_name,\n",
    "          rg_name))\n",
    "conn.commit()"
   ]
  },
  {
   "cell_type": "code",
   "execution_count": 78,
   "metadata": {},
   "outputs": [
    {
     "name": "stdout",
     "output_type": "stream",
     "text": [
      "found 5791 matches\n",
      "rf_project_name jabber4r\n",
      "rg_project_name jabber4r\n",
      "url_levenshtein 0\n",
      "rf_name_soundex J160\n",
      "rg_name_soundex J160\n",
      "name_levenshtein 0\n",
      "rf_name_in_rg_name 1\n",
      "rf_name_in_rg_url 1\n",
      "rf_dev_in_rg_dev 1\n",
      "\n",
      "rf_project_name muravey-tools\n",
      "rg_project_name radiant\n",
      "url_levenshtein 0\n",
      "rf_name_soundex M613\n",
      "rg_name_soundex R353\n",
      "name_levenshtein 10\n",
      "rf_name_in_rg_name 0\n",
      "rf_name_in_rg_url 0\n",
      "rf_dev_in_rg_dev 0\n",
      "\n",
      "rf_project_name muravey-tools\n",
      "rg_project_name radiant-archive-extension\n",
      "url_levenshtein 0\n",
      "rf_name_soundex M613\n",
      "rg_name_soundex R353\n",
      "name_levenshtein 21\n",
      "rf_name_in_rg_name 0\n",
      "rf_name_in_rg_url 0\n",
      "rf_dev_in_rg_dev 0\n",
      "\n",
      "rf_project_name muravey-tools\n",
      "rg_project_name radiant-clipped-extension\n",
      "url_levenshtein 0\n",
      "rf_name_soundex M613\n",
      "rg_name_soundex R353\n",
      "name_levenshtein 21\n",
      "rf_name_in_rg_name 0\n",
      "rf_name_in_rg_url 0\n",
      "rf_dev_in_rg_dev 0\n",
      "\n",
      "rf_project_name muravey-tools\n",
      "rg_project_name radiant-clipped-extension-add-group\n",
      "url_levenshtein 0\n",
      "rf_name_soundex M613\n",
      "rg_name_soundex R353\n",
      "name_levenshtein 29\n",
      "rf_name_in_rg_name 0\n",
      "rf_name_in_rg_url 0\n",
      "rf_dev_in_rg_dev 0\n",
      "\n",
      "rf_project_name muravey-tools\n",
      "rg_project_name radiant-debug-extension\n",
      "url_levenshtein 0\n",
      "rf_name_soundex M613\n",
      "rg_name_soundex R353\n",
      "name_levenshtein 19\n",
      "rf_name_in_rg_name 0\n",
      "rf_name_in_rg_url 0\n",
      "rf_dev_in_rg_dev 0\n",
      "\n",
      "rf_project_name muravey-tools\n",
      "rg_project_name radiant-exporter-extension\n",
      "url_levenshtein 0\n",
      "rf_name_soundex M613\n",
      "rg_name_soundex R353\n",
      "name_levenshtein 22\n",
      "rf_name_in_rg_name 0\n",
      "rf_name_in_rg_url 0\n",
      "rf_dev_in_rg_dev 0\n",
      "\n",
      "rf_project_name muravey-tools\n",
      "rg_project_name radiant-french_language_pack-extension\n",
      "url_levenshtein 0\n",
      "rf_name_soundex M613\n",
      "rg_name_soundex R353\n",
      "name_levenshtein 33\n",
      "rf_name_in_rg_name 0\n",
      "rf_name_in_rg_url 0\n",
      "rf_dev_in_rg_dev 0\n",
      "\n",
      "rf_project_name muravey-tools\n",
      "rg_project_name radiant-german_language_pack-extension\n",
      "url_levenshtein 0\n",
      "rf_name_soundex M613\n",
      "rg_name_soundex R353\n",
      "name_levenshtein 33\n",
      "rf_name_in_rg_name 0\n",
      "rf_name_in_rg_url 0\n",
      "rf_dev_in_rg_dev 0\n",
      "\n",
      "rf_project_name muravey-tools\n",
      "rg_project_name radiant-markdown_filter-extension\n",
      "url_levenshtein 0\n",
      "rf_name_soundex M613\n",
      "rg_name_soundex R353\n",
      "name_levenshtein 28\n",
      "rf_name_in_rg_name 0\n",
      "rf_name_in_rg_url 0\n",
      "rf_dev_in_rg_dev 0\n",
      "\n"
     ]
    }
   ],
   "source": [
    "cursor = conn.cursor()\n",
    "\n",
    "count = cursor.execute('''\n",
    "    SELECT count(*) FROM book_entity_matches\n",
    "''').fetchone()[0]\n",
    "\n",
    "print(f'found {count} matches')\n",
    "\n",
    "res = cursor.execute('''\n",
    "    SELECT * FROM book_entity_matches LIMIT 10\n",
    "''').fetchall()\n",
    "\n",
    "for (rf_project_name, \n",
    "     rg_project_name, \n",
    "     url_levenshtein,\n",
    "     rf_name_soundex,\n",
    "     rg_name_soundex,\n",
    "     name_levenshtein,\n",
    "     rf_name_in_rg_name,\n",
    "     rf_name_in_rg_url,\n",
    "     rf_dev_in_rg_dev\n",
    "    ) in res:\n",
    "    \n",
    "    print('rf_project_name', rf_project_name)\n",
    "    print('rg_project_name', rg_project_name)\n",
    "    print('url_levenshtein', url_levenshtein)\n",
    "    print('rf_name_soundex', rf_name_soundex)\n",
    "    print('rg_name_soundex', rg_name_soundex)\n",
    "    print('name_levenshtein', name_levenshtein)\n",
    "    print('rf_name_in_rg_name', rf_name_in_rg_name)\n",
    "    print('rf_name_in_rg_url', rf_name_in_rg_url)\n",
    "    print('rf_dev_in_rg_dev', rf_dev_in_rg_dev)\n",
    "    print('')"
   ]
  },
  {
   "cell_type": "code",
   "execution_count": 86,
   "metadata": {},
   "outputs": [
    {
     "data": {
      "text/plain": [
       "119"
      ]
     },
     "execution_count": 86,
     "metadata": {},
     "output_type": "execute_result"
    }
   ],
   "source": [
    "cusor = conn.cursor()\n",
    "\n",
    "# Find the type 1 false positive, FP1.\n",
    "# The only matching params is the URL.\n",
    "\n",
    "fp1 = cursor.execute('''\n",
    "    SELECT rf.url, bme.*\n",
    "    FROM book_entity_matches bme\n",
    "    INNER JOIN book_rf_entities rf\n",
    "        ON (bme.rf_project_name = rf.project_name)\n",
    "    WHERE url_levenshtein = 0\n",
    "    AND rf_name_soundex <> rg_name_soundex\n",
    "    AND name_levenshtein > 0\n",
    "    AND rf_name_in_rg_name = 0\n",
    "    AND rf_name_in_rg_url = 0\n",
    "    AND rf_dev_in_rg_dev = 0\n",
    "''').fetchall()\n",
    "len(fp1)"
   ]
  },
  {
   "cell_type": "code",
   "execution_count": 90,
   "metadata": {},
   "outputs": [
    {
     "data": {
      "text/plain": [
       "86"
      ]
     },
     "execution_count": 90,
     "metadata": {},
     "output_type": "execute_result"
    }
   ],
   "source": [
    "# Find the type 2 false positive, FP2.\n",
    "fp2 = cursor.execute('''\n",
    "    SELECT rf.url, rg.url, bme.*\n",
    "    FROM book_entity_matches bme\n",
    "    INNER JOIN book_rf_entities rf\n",
    "        ON (bme.rf_project_name = rf.project_name)\n",
    "    INNER JOIN book_rg_entities rg\n",
    "        ON (bme.rg_project_name = rg.project_name)\n",
    "    WHERE name_levenshtein = 0\n",
    "    AND url_levenshtein > 0\n",
    "    AND rf_name_in_rg_url = 0\n",
    "    AND rf_dev_in_rg_dev = 0\n",
    "''').fetchall()\n",
    "len(fp2)"
   ]
  },
  {
   "cell_type": "code",
   "execution_count": 93,
   "metadata": {},
   "outputs": [
    {
     "data": {
      "text/plain": [
       "1091"
      ]
     },
     "execution_count": 93,
     "metadata": {},
     "output_type": "execute_result"
    }
   ],
   "source": [
    "# Find the true positives, which are the exact matches.\n",
    "tp = cursor.execute('''\n",
    "    SELECT rf.url, rg.url, bme.*\n",
    "    FROM book_entity_matches bme\n",
    "    INNER JOIN book_rf_entities rf\n",
    "        ON bme.rf_project_name = rf.project_name\n",
    "    INNER JOIN book_rg_entities rg\n",
    "        ON bme.rg_project_name = rg.project_name\n",
    "    WHERE name_levenshtein = 0\n",
    "    AND url_levenshtein = 0\n",
    "    AND rf_name_in_rg_url = 1\n",
    "    AND rf_dev_in_rg_dev = 1\n",
    "    AND rf_name_in_rg_name = 1\n",
    "''').fetchall()\n",
    "len(tp)"
   ]
  },
  {
   "cell_type": "code",
   "execution_count": 94,
   "metadata": {},
   "outputs": [],
   "source": [
    "conn.close()"
   ]
  },
  {
   "cell_type": "code",
   "execution_count": null,
   "metadata": {},
   "outputs": [],
   "source": []
  }
 ],
 "metadata": {
  "kernelspec": {
   "display_name": "Python 3",
   "language": "python",
   "name": "python3"
  },
  "language_info": {
   "codemirror_mode": {
    "name": "ipython",
    "version": 3
   },
   "file_extension": ".py",
   "mimetype": "text/x-python",
   "name": "python",
   "nbconvert_exporter": "python",
   "pygments_lexer": "ipython3",
   "version": "3.7.3"
  }
 },
 "nbformat": 4,
 "nbformat_minor": 2
}
